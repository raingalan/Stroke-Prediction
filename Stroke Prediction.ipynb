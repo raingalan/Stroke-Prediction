{
 "cells": [
  {
   "cell_type": "markdown",
   "metadata": {
    "id": "14DiyVSc5kso"
   },
   "source": [
    "# Stroke Prediction Dataset"
   ]
  },
  {
   "cell_type": "markdown",
   "metadata": {
    "id": "Ze4c_9ZP5rE4"
   },
   "source": [
    "## Initialization"
   ]
  },
  {
   "cell_type": "code",
   "execution_count": 1,
   "metadata": {
    "id": "QFW-z4v6a4wy"
   },
   "outputs": [
    {
     "name": "stderr",
     "output_type": "stream",
     "text": [
      "C:\\Users\\Rain\\anaconda3\\lib\\site-packages\\scipy\\__init__.py:146: UserWarning: A NumPy version >=1.16.5 and <1.23.0 is required for this version of SciPy (detected version 1.26.1\n",
      "  warnings.warn(f\"A NumPy version >={np_minversion} and <{np_maxversion}\"\n"
     ]
    }
   ],
   "source": [
    "# General Libraries\n",
    "import time\n",
    "import numpy as np\n",
    "import pandas as pd\n",
    "from tqdm.notebook import tqdm\n",
    "from collections import Counter\n",
    "import warnings\n",
    "\n",
    "\n",
    "# Visualization\n",
    "import matplotlib.pyplot as plt\n",
    "import seaborn as sns\n",
    "from termcolor import colored\n",
    "\n",
    "# Data Preparation / Preprocessing\n",
    "from feature_engine.outliers import Winsorizer\n",
    "from sklearn.preprocessing import StandardScaler, MinMaxScaler\n",
    "from sklearn.feature_extraction import DictVectorizer\n",
    "from sklearn.model_selection import train_test_split, StratifiedKFold, cross_validate\n",
    "from sklearn.neighbors import LocalOutlierFactor\n",
    "from sklearn.ensemble import IsolationForest\n",
    "\n",
    "# Data Sampling\n",
    "from imblearn.pipeline import Pipeline, make_pipeline\n",
    "from imblearn.over_sampling import SMOTE, ADASYN\n",
    "from imblearn.under_sampling import TomekLinks\n",
    "\n",
    "# Machine Learning Models\n",
    "from sklearn.neighbors import KNeighborsClassifier\n",
    "from sklearn.linear_model import LogisticRegression\n",
    "from sklearn.tree import DecisionTreeClassifier\n",
    "from sklearn.ensemble import RandomForestClassifier, GradientBoostingClassifier, AdaBoostClassifier, ExtraTreesClassifier\n",
    "from xgboost import XGBClassifier\n",
    "from sklearn.metrics import accuracy_score, precision_score, recall_score, f1_score, confusion_matrix\n",
    "from sklearn.model_selection import GridSearchCV, RandomizedSearchCV, ParameterGrid\n",
    "\n",
    "# Shapley Additive Explanations (SHAP)\n",
    "import shap\n",
    "\n",
    "# Extra\n",
    "import joblib\n",
    "import pickle\n",
    "\n",
    "warnings.filterwarnings('ignore')"
   ]
  },
  {
   "cell_type": "code",
   "execution_count": 43,
   "metadata": {
    "id": "Qf88PZd-assB"
   },
   "outputs": [],
   "source": [
    "# Data Source: https://www.kaggle.com/datasets/fedesoriano/stroke-prediction-dataset/data\n",
    "df = pd.read_csv('healthcare-dataset-stroke-data.csv')"
   ]
  },
  {
   "cell_type": "code",
   "execution_count": 44,
   "metadata": {
    "colab": {
     "base_uri": "https://localhost:8080/",
     "height": 553
    },
    "id": "53vhsNaSa7t9",
    "outputId": "925ec21f-ca8b-4fda-8fe0-f815594e31a2"
   },
   "outputs": [
    {
     "name": "stdout",
     "output_type": "stream",
     "text": [
      "<class 'pandas.core.frame.DataFrame'>\n",
      "RangeIndex: 5110 entries, 0 to 5109\n",
      "Data columns (total 12 columns):\n",
      " #   Column             Non-Null Count  Dtype  \n",
      "---  ------             --------------  -----  \n",
      " 0   id                 5110 non-null   int64  \n",
      " 1   gender             5110 non-null   object \n",
      " 2   age                5110 non-null   float64\n",
      " 3   hypertension       5110 non-null   int64  \n",
      " 4   heart_disease      5110 non-null   int64  \n",
      " 5   ever_married       5110 non-null   object \n",
      " 6   work_type          5110 non-null   object \n",
      " 7   Residence_type     5110 non-null   object \n",
      " 8   avg_glucose_level  5110 non-null   float64\n",
      " 9   bmi                4909 non-null   float64\n",
      " 10  smoking_status     5110 non-null   object \n",
      " 11  stroke             5110 non-null   int64  \n",
      "dtypes: float64(3), int64(4), object(5)\n",
      "memory usage: 479.2+ KB\n"
     ]
    },
    {
     "data": {
      "text/plain": [
       "None"
      ]
     },
     "metadata": {},
     "output_type": "display_data"
    },
    {
     "data": {
      "text/html": [
       "<div>\n",
       "<style scoped>\n",
       "    .dataframe tbody tr th:only-of-type {\n",
       "        vertical-align: middle;\n",
       "    }\n",
       "\n",
       "    .dataframe tbody tr th {\n",
       "        vertical-align: top;\n",
       "    }\n",
       "\n",
       "    .dataframe thead th {\n",
       "        text-align: right;\n",
       "    }\n",
       "</style>\n",
       "<table border=\"1\" class=\"dataframe\">\n",
       "  <thead>\n",
       "    <tr style=\"text-align: right;\">\n",
       "      <th></th>\n",
       "      <th>id</th>\n",
       "      <th>gender</th>\n",
       "      <th>age</th>\n",
       "      <th>hypertension</th>\n",
       "      <th>heart_disease</th>\n",
       "      <th>ever_married</th>\n",
       "      <th>work_type</th>\n",
       "      <th>Residence_type</th>\n",
       "      <th>avg_glucose_level</th>\n",
       "      <th>bmi</th>\n",
       "      <th>smoking_status</th>\n",
       "      <th>stroke</th>\n",
       "    </tr>\n",
       "  </thead>\n",
       "  <tbody>\n",
       "    <tr>\n",
       "      <th>0</th>\n",
       "      <td>9046</td>\n",
       "      <td>Male</td>\n",
       "      <td>67.0</td>\n",
       "      <td>0</td>\n",
       "      <td>1</td>\n",
       "      <td>Yes</td>\n",
       "      <td>Private</td>\n",
       "      <td>Urban</td>\n",
       "      <td>228.69</td>\n",
       "      <td>36.6</td>\n",
       "      <td>formerly smoked</td>\n",
       "      <td>1</td>\n",
       "    </tr>\n",
       "    <tr>\n",
       "      <th>1</th>\n",
       "      <td>51676</td>\n",
       "      <td>Female</td>\n",
       "      <td>61.0</td>\n",
       "      <td>0</td>\n",
       "      <td>0</td>\n",
       "      <td>Yes</td>\n",
       "      <td>Self-employed</td>\n",
       "      <td>Rural</td>\n",
       "      <td>202.21</td>\n",
       "      <td>NaN</td>\n",
       "      <td>never smoked</td>\n",
       "      <td>1</td>\n",
       "    </tr>\n",
       "    <tr>\n",
       "      <th>2</th>\n",
       "      <td>31112</td>\n",
       "      <td>Male</td>\n",
       "      <td>80.0</td>\n",
       "      <td>0</td>\n",
       "      <td>1</td>\n",
       "      <td>Yes</td>\n",
       "      <td>Private</td>\n",
       "      <td>Rural</td>\n",
       "      <td>105.92</td>\n",
       "      <td>32.5</td>\n",
       "      <td>never smoked</td>\n",
       "      <td>1</td>\n",
       "    </tr>\n",
       "    <tr>\n",
       "      <th>3</th>\n",
       "      <td>60182</td>\n",
       "      <td>Female</td>\n",
       "      <td>49.0</td>\n",
       "      <td>0</td>\n",
       "      <td>0</td>\n",
       "      <td>Yes</td>\n",
       "      <td>Private</td>\n",
       "      <td>Urban</td>\n",
       "      <td>171.23</td>\n",
       "      <td>34.4</td>\n",
       "      <td>smokes</td>\n",
       "      <td>1</td>\n",
       "    </tr>\n",
       "    <tr>\n",
       "      <th>4</th>\n",
       "      <td>1665</td>\n",
       "      <td>Female</td>\n",
       "      <td>79.0</td>\n",
       "      <td>1</td>\n",
       "      <td>0</td>\n",
       "      <td>Yes</td>\n",
       "      <td>Self-employed</td>\n",
       "      <td>Rural</td>\n",
       "      <td>174.12</td>\n",
       "      <td>24.0</td>\n",
       "      <td>never smoked</td>\n",
       "      <td>1</td>\n",
       "    </tr>\n",
       "  </tbody>\n",
       "</table>\n",
       "</div>"
      ],
      "text/plain": [
       "      id  gender   age  hypertension  heart_disease ever_married  \\\n",
       "0   9046    Male  67.0             0              1          Yes   \n",
       "1  51676  Female  61.0             0              0          Yes   \n",
       "2  31112    Male  80.0             0              1          Yes   \n",
       "3  60182  Female  49.0             0              0          Yes   \n",
       "4   1665  Female  79.0             1              0          Yes   \n",
       "\n",
       "       work_type Residence_type  avg_glucose_level   bmi   smoking_status  \\\n",
       "0        Private          Urban             228.69  36.6  formerly smoked   \n",
       "1  Self-employed          Rural             202.21   NaN     never smoked   \n",
       "2        Private          Rural             105.92  32.5     never smoked   \n",
       "3        Private          Urban             171.23  34.4           smokes   \n",
       "4  Self-employed          Rural             174.12  24.0     never smoked   \n",
       "\n",
       "   stroke  \n",
       "0       1  \n",
       "1       1  \n",
       "2       1  \n",
       "3       1  \n",
       "4       1  "
      ]
     },
     "metadata": {},
     "output_type": "display_data"
    }
   ],
   "source": [
    "display(df.info(), df.head())"
   ]
  },
  {
   "cell_type": "markdown",
   "metadata": {
    "id": "26TnG8tX5t2n"
   },
   "source": [
    "## Data Preprocessing"
   ]
  },
  {
   "cell_type": "code",
   "execution_count": 4,
   "metadata": {},
   "outputs": [
    {
     "data": {
      "text/html": [
       "<div>\n",
       "<style scoped>\n",
       "    .dataframe tbody tr th:only-of-type {\n",
       "        vertical-align: middle;\n",
       "    }\n",
       "\n",
       "    .dataframe tbody tr th {\n",
       "        vertical-align: top;\n",
       "    }\n",
       "\n",
       "    .dataframe thead th {\n",
       "        text-align: right;\n",
       "    }\n",
       "</style>\n",
       "<table border=\"1\" class=\"dataframe\">\n",
       "  <thead>\n",
       "    <tr style=\"text-align: right;\">\n",
       "      <th></th>\n",
       "      <th>id</th>\n",
       "      <th>age</th>\n",
       "      <th>hypertension</th>\n",
       "      <th>heart_disease</th>\n",
       "      <th>avg_glucose_level</th>\n",
       "      <th>bmi</th>\n",
       "      <th>stroke</th>\n",
       "    </tr>\n",
       "  </thead>\n",
       "  <tbody>\n",
       "    <tr>\n",
       "      <th>count</th>\n",
       "      <td>5110.000000</td>\n",
       "      <td>5110.000000</td>\n",
       "      <td>5110.000000</td>\n",
       "      <td>5110.000000</td>\n",
       "      <td>5110.000000</td>\n",
       "      <td>4909.000000</td>\n",
       "      <td>5110.000000</td>\n",
       "    </tr>\n",
       "    <tr>\n",
       "      <th>mean</th>\n",
       "      <td>36517.829354</td>\n",
       "      <td>43.226614</td>\n",
       "      <td>0.097456</td>\n",
       "      <td>0.054012</td>\n",
       "      <td>106.147677</td>\n",
       "      <td>28.893237</td>\n",
       "      <td>0.048728</td>\n",
       "    </tr>\n",
       "    <tr>\n",
       "      <th>std</th>\n",
       "      <td>21161.721625</td>\n",
       "      <td>22.612647</td>\n",
       "      <td>0.296607</td>\n",
       "      <td>0.226063</td>\n",
       "      <td>45.283560</td>\n",
       "      <td>7.854067</td>\n",
       "      <td>0.215320</td>\n",
       "    </tr>\n",
       "    <tr>\n",
       "      <th>min</th>\n",
       "      <td>67.000000</td>\n",
       "      <td>0.080000</td>\n",
       "      <td>0.000000</td>\n",
       "      <td>0.000000</td>\n",
       "      <td>55.120000</td>\n",
       "      <td>10.300000</td>\n",
       "      <td>0.000000</td>\n",
       "    </tr>\n",
       "    <tr>\n",
       "      <th>25%</th>\n",
       "      <td>17741.250000</td>\n",
       "      <td>25.000000</td>\n",
       "      <td>0.000000</td>\n",
       "      <td>0.000000</td>\n",
       "      <td>77.245000</td>\n",
       "      <td>23.500000</td>\n",
       "      <td>0.000000</td>\n",
       "    </tr>\n",
       "    <tr>\n",
       "      <th>50%</th>\n",
       "      <td>36932.000000</td>\n",
       "      <td>45.000000</td>\n",
       "      <td>0.000000</td>\n",
       "      <td>0.000000</td>\n",
       "      <td>91.885000</td>\n",
       "      <td>28.100000</td>\n",
       "      <td>0.000000</td>\n",
       "    </tr>\n",
       "    <tr>\n",
       "      <th>75%</th>\n",
       "      <td>54682.000000</td>\n",
       "      <td>61.000000</td>\n",
       "      <td>0.000000</td>\n",
       "      <td>0.000000</td>\n",
       "      <td>114.090000</td>\n",
       "      <td>33.100000</td>\n",
       "      <td>0.000000</td>\n",
       "    </tr>\n",
       "    <tr>\n",
       "      <th>max</th>\n",
       "      <td>72940.000000</td>\n",
       "      <td>82.000000</td>\n",
       "      <td>1.000000</td>\n",
       "      <td>1.000000</td>\n",
       "      <td>271.740000</td>\n",
       "      <td>97.600000</td>\n",
       "      <td>1.000000</td>\n",
       "    </tr>\n",
       "  </tbody>\n",
       "</table>\n",
       "</div>"
      ],
      "text/plain": [
       "                 id          age  hypertension  heart_disease  \\\n",
       "count   5110.000000  5110.000000   5110.000000    5110.000000   \n",
       "mean   36517.829354    43.226614      0.097456       0.054012   \n",
       "std    21161.721625    22.612647      0.296607       0.226063   \n",
       "min       67.000000     0.080000      0.000000       0.000000   \n",
       "25%    17741.250000    25.000000      0.000000       0.000000   \n",
       "50%    36932.000000    45.000000      0.000000       0.000000   \n",
       "75%    54682.000000    61.000000      0.000000       0.000000   \n",
       "max    72940.000000    82.000000      1.000000       1.000000   \n",
       "\n",
       "       avg_glucose_level          bmi       stroke  \n",
       "count        5110.000000  4909.000000  5110.000000  \n",
       "mean          106.147677    28.893237     0.048728  \n",
       "std            45.283560     7.854067     0.215320  \n",
       "min            55.120000    10.300000     0.000000  \n",
       "25%            77.245000    23.500000     0.000000  \n",
       "50%            91.885000    28.100000     0.000000  \n",
       "75%           114.090000    33.100000     0.000000  \n",
       "max           271.740000    97.600000     1.000000  "
      ]
     },
     "execution_count": 4,
     "metadata": {},
     "output_type": "execute_result"
    }
   ],
   "source": [
    "df.describe()"
   ]
  },
  {
   "cell_type": "markdown",
   "metadata": {},
   "source": [
    "#### Check Duplicate IDs"
   ]
  },
  {
   "cell_type": "code",
   "execution_count": 5,
   "metadata": {},
   "outputs": [
    {
     "data": {
      "text/plain": [
       "0"
      ]
     },
     "execution_count": 5,
     "metadata": {},
     "output_type": "execute_result"
    }
   ],
   "source": [
    "df.duplicated('id').sum()"
   ]
  },
  {
   "cell_type": "markdown",
   "metadata": {},
   "source": [
    "#### Drop ID since it's an identifier"
   ]
  },
  {
   "cell_type": "code",
   "execution_count": 6,
   "metadata": {},
   "outputs": [],
   "source": [
    "df_cleaned = df.copy(deep=True)\n",
    "df_cleaned.drop('id', axis=1, inplace=True)"
   ]
  },
  {
   "cell_type": "markdown",
   "metadata": {},
   "source": [
    "#### `hypertension` and `heart_disease` will be converted to categorical later as these are currently integers**"
   ]
  },
  {
   "cell_type": "code",
   "execution_count": 7,
   "metadata": {},
   "outputs": [],
   "source": [
    "categorical_mapping = {\n",
    "    0: 'no',\n",
    "    1: 'yes'\n",
    "}\n",
    "\n",
    "df_cleaned['hypertension'] = df_cleaned['hypertension'].map(categorical_mapping)\n",
    "df_cleaned['heart_disease'] = df_cleaned['heart_disease'].map(categorical_mapping)"
   ]
  },
  {
   "cell_type": "markdown",
   "metadata": {},
   "source": [
    "#### Check unique values of the categorical columns"
   ]
  },
  {
   "cell_type": "markdown",
   "metadata": {},
   "source": [
    "**Column and column value formatting**"
   ]
  },
  {
   "cell_type": "code",
   "execution_count": 8,
   "metadata": {},
   "outputs": [],
   "source": [
    "df_cleaned.columns = df_cleaned.columns.str.lower()\n",
    "\n",
    "categorical = df_cleaned.columns[df_cleaned.dtypes=='object'].tolist()\n",
    "\n",
    "for c in categorical:\n",
    "    df_cleaned[c] = df_cleaned[c].str.lower()\n",
    "    df_cleaned[c] = df_cleaned[c].str.replace(' ' , '_')\n",
    "    df_cleaned[c] = df_cleaned[c].str.replace('-', '_')"
   ]
  },
  {
   "cell_type": "code",
   "execution_count": 9,
   "metadata": {},
   "outputs": [
    {
     "name": "stdout",
     "output_type": "stream",
     "text": [
      "\n",
      "######\n",
      "gender\n",
      "count of unique values:  3\n",
      "unique values:  ['male' 'female' 'other']\n",
      "\n",
      " gender\n",
      "female    2994\n",
      "male      2115\n",
      "other        1\n",
      "dtype: int64\n",
      "\n",
      "######\n",
      "hypertension\n",
      "count of unique values:  2\n",
      "unique values:  ['no' 'yes']\n",
      "\n",
      " hypertension\n",
      "no     4612\n",
      "yes     498\n",
      "dtype: int64\n",
      "\n",
      "######\n",
      "heart_disease\n",
      "count of unique values:  2\n",
      "unique values:  ['yes' 'no']\n",
      "\n",
      " heart_disease\n",
      "no     4834\n",
      "yes     276\n",
      "dtype: int64\n",
      "\n",
      "######\n",
      "ever_married\n",
      "count of unique values:  2\n",
      "unique values:  ['yes' 'no']\n",
      "\n",
      " ever_married\n",
      "yes    3353\n",
      "no     1757\n",
      "dtype: int64\n",
      "\n",
      "######\n",
      "work_type\n",
      "count of unique values:  5\n",
      "unique values:  ['private' 'self_employed' 'govt_job' 'children' 'never_worked']\n",
      "\n",
      " work_type\n",
      "private          2925\n",
      "self_employed     819\n",
      "children          687\n",
      "govt_job          657\n",
      "never_worked       22\n",
      "dtype: int64\n",
      "\n",
      "######\n",
      "residence_type\n",
      "count of unique values:  2\n",
      "unique values:  ['urban' 'rural']\n",
      "\n",
      " residence_type\n",
      "urban    2596\n",
      "rural    2514\n",
      "dtype: int64\n",
      "\n",
      "######\n",
      "smoking_status\n",
      "count of unique values:  4\n",
      "unique values:  ['formerly_smoked' 'never_smoked' 'smokes' 'unknown']\n",
      "\n",
      " smoking_status\n",
      "never_smoked       1892\n",
      "unknown            1544\n",
      "formerly_smoked     885\n",
      "smokes              789\n",
      "dtype: int64\n"
     ]
    }
   ],
   "source": [
    "for c in categorical:\n",
    "    print('\\n######')\n",
    "    print(c)\n",
    "    print('count of unique values: ', df_cleaned[c].nunique())\n",
    "    print('unique values: ', df_cleaned[c].unique()[:10])\n",
    "    print('\\n', df_cleaned.value_counts(c))"
   ]
  },
  {
   "cell_type": "markdown",
   "metadata": {},
   "source": [
    "#### Check distribution of target variable"
   ]
  },
  {
   "cell_type": "code",
   "execution_count": 10,
   "metadata": {},
   "outputs": [
    {
     "data": {
      "text/html": [
       "<div>\n",
       "<style scoped>\n",
       "    .dataframe tbody tr th:only-of-type {\n",
       "        vertical-align: middle;\n",
       "    }\n",
       "\n",
       "    .dataframe tbody tr th {\n",
       "        vertical-align: top;\n",
       "    }\n",
       "\n",
       "    .dataframe thead th {\n",
       "        text-align: right;\n",
       "    }\n",
       "</style>\n",
       "<table border=\"1\" class=\"dataframe\">\n",
       "  <thead>\n",
       "    <tr style=\"text-align: right;\">\n",
       "      <th></th>\n",
       "      <th>stroke</th>\n",
       "      <th>count</th>\n",
       "      <th>percentage</th>\n",
       "    </tr>\n",
       "  </thead>\n",
       "  <tbody>\n",
       "    <tr>\n",
       "      <th>0</th>\n",
       "      <td>0</td>\n",
       "      <td>4861</td>\n",
       "      <td>95.13</td>\n",
       "    </tr>\n",
       "    <tr>\n",
       "      <th>1</th>\n",
       "      <td>1</td>\n",
       "      <td>249</td>\n",
       "      <td>4.87</td>\n",
       "    </tr>\n",
       "  </tbody>\n",
       "</table>\n",
       "</div>"
      ],
      "text/plain": [
       "   stroke  count  percentage\n",
       "0       0   4861       95.13\n",
       "1       1    249        4.87"
      ]
     },
     "execution_count": 10,
     "metadata": {},
     "output_type": "execute_result"
    }
   ],
   "source": [
    "stroke_count = df_cleaned.value_counts('stroke').reset_index()\n",
    "stroke_count = stroke_count.rename(columns={'stroke':'stroke', 0:'count'})\n",
    "stroke_count['percentage'] = round(stroke_count['count']/stroke_count['count'].sum()*100,2)\n",
    "stroke_count"
   ]
  },
  {
   "cell_type": "code",
   "execution_count": 11,
   "metadata": {},
   "outputs": [
    {
     "name": "stdout",
     "output_type": "stream",
     "text": [
      "95.13% of individuals do not have stroke history\n",
      "4.87% of individuals have stroke history\n"
     ]
    }
   ],
   "source": [
    "print(\"%.2f%% of individuals do not have stroke history\" % stroke_count['percentage'][0])\n",
    "print(\"%.2f%% of individuals have stroke history\" % stroke_count['percentage'][1])"
   ]
  },
  {
   "cell_type": "code",
   "execution_count": 12,
   "metadata": {},
   "outputs": [
    {
     "data": {
      "image/png": "[encoded data removed]",
      "text/plain": [
       "<Figure size 432x288 with 1 Axes>"
      ]
     },
     "metadata": {
      "needs_background": "light"
     },
     "output_type": "display_data"
    }
   ],
   "source": [
    "sns.barplot(data=stroke_count, x='stroke', y='count')\n",
    "plt.title('Distribution of Stroke Presence in Dataset')\n",
    "plt.show()"
   ]
  },
  {
   "cell_type": "markdown",
   "metadata": {},
   "source": [
    "#### Proportion Chance Criterion"
   ]
  },
  {
   "cell_type": "markdown",
   "metadata": {},
   "source": [
    "Given the imbalanced dataset, the proportion chance criterion will be used as a baseline for model evaluation. PCC will be the ratio of positive stroke examples over the total count of the dataset."
   ]
  },
  {
   "cell_type": "code",
   "execution_count": 13,
   "metadata": {},
   "outputs": [
    {
     "name": "stdout",
     "output_type": "stream",
     "text": [
      "Proportion Chance Criterion: 4.87%\n",
      "Proportion Chance Criterion with Allowance: 6.09%\n"
     ]
    }
   ],
   "source": [
    "# Proportion Chance Criterion\n",
    "pcc = stroke_count['percentage'][1]\n",
    "pcc_allowance = pcc*1.25\n",
    "\n",
    "print(f'Proportion Chance Criterion: %.2f%%' % pcc)\n",
    "print(f'Proportion Chance Criterion with Allowance: %.2f%%' % pcc_allowance)"
   ]
  },
  {
   "cell_type": "markdown",
   "metadata": {},
   "source": [
    "#### Other Gender will be dropped"
   ]
  },
  {
   "cell_type": "code",
   "execution_count": 14,
   "metadata": {},
   "outputs": [
    {
     "data": {
      "text/plain": [
       "gender\n",
       "female    2994\n",
       "male      2115\n",
       "other        1\n",
       "dtype: int64"
      ]
     },
     "execution_count": 14,
     "metadata": {},
     "output_type": "execute_result"
    }
   ],
   "source": [
    "df_cleaned.value_counts('gender')"
   ]
  },
  {
   "cell_type": "code",
   "execution_count": 15,
   "metadata": {},
   "outputs": [],
   "source": [
    "df_cleaned = df_cleaned[df_cleaned['gender']!='other']"
   ]
  },
  {
   "cell_type": "markdown",
   "metadata": {},
   "source": [
    "#### Check Null Values"
   ]
  },
  {
   "cell_type": "code",
   "execution_count": 16,
   "metadata": {},
   "outputs": [
    {
     "data": {
      "text/plain": [
       "gender                 0\n",
       "age                    0\n",
       "hypertension           0\n",
       "heart_disease          0\n",
       "ever_married           0\n",
       "work_type              0\n",
       "residence_type         0\n",
       "avg_glucose_level      0\n",
       "bmi                  201\n",
       "smoking_status         0\n",
       "stroke                 0\n",
       "dtype: int64"
      ]
     },
     "execution_count": 16,
     "metadata": {},
     "output_type": "execute_result"
    }
   ],
   "source": [
    "df_cleaned.isnull().sum()"
   ]
  },
  {
   "cell_type": "code",
   "execution_count": 17,
   "metadata": {},
   "outputs": [
    {
     "data": {
      "text/html": [
       "<div>\n",
       "<style scoped>\n",
       "    .dataframe tbody tr th:only-of-type {\n",
       "        vertical-align: middle;\n",
       "    }\n",
       "\n",
       "    .dataframe tbody tr th {\n",
       "        vertical-align: top;\n",
       "    }\n",
       "\n",
       "    .dataframe thead th {\n",
       "        text-align: right;\n",
       "    }\n",
       "</style>\n",
       "<table border=\"1\" class=\"dataframe\">\n",
       "  <thead>\n",
       "    <tr style=\"text-align: right;\">\n",
       "      <th></th>\n",
       "      <th>stroke</th>\n",
       "      <th>count_of_missing_bmi</th>\n",
       "      <th>count_of_total</th>\n",
       "      <th>percentage</th>\n",
       "    </tr>\n",
       "  </thead>\n",
       "  <tbody>\n",
       "    <tr>\n",
       "      <th>0</th>\n",
       "      <td>0</td>\n",
       "      <td>161</td>\n",
       "      <td>4860</td>\n",
       "      <td>3.31</td>\n",
       "    </tr>\n",
       "    <tr>\n",
       "      <th>1</th>\n",
       "      <td>1</td>\n",
       "      <td>40</td>\n",
       "      <td>249</td>\n",
       "      <td>16.06</td>\n",
       "    </tr>\n",
       "  </tbody>\n",
       "</table>\n",
       "</div>"
      ],
      "text/plain": [
       "   stroke  count_of_missing_bmi  count_of_total  percentage\n",
       "0       0                   161            4860        3.31\n",
       "1       1                    40             249       16.06"
      ]
     },
     "execution_count": 17,
     "metadata": {},
     "output_type": "execute_result"
    }
   ],
   "source": [
    "missing_bmi = df_cleaned[df_cleaned.bmi.isnull()].value_counts('stroke').reset_index()\n",
    "missing_bmi.columns=['stroke', 'count_of_missing_bmi']\n",
    "\n",
    "total_counts = df_cleaned.value_counts('stroke').reset_index()\n",
    "total_counts.columns=['stroke', 'count_of_total']\n",
    "\n",
    "total_counts = missing_bmi.merge(total_counts, on='stroke')\n",
    "total_counts['percentage'] = round((total_counts['count_of_missing_bmi']/total_counts['count_of_total'])*100, 2)\n",
    "total_counts"
   ]
  },
  {
   "cell_type": "markdown",
   "metadata": {},
   "source": [
    "**Looking at datapoints with null bmi values, 40 individuals have stroke history. Given the highly imbalanced nature of the dataset, the missing bmi values with the median given the right skewed distribution of BMI as shown below**"
   ]
  },
  {
   "cell_type": "code",
   "execution_count": 18,
   "metadata": {},
   "outputs": [],
   "source": [
    "df_cleaned['bmi'] = df_cleaned['bmi'].fillna(df_cleaned['bmi'].median())"
   ]
  },
  {
   "cell_type": "markdown",
   "metadata": {},
   "source": [
    "#### Visualization of Numerical Variables"
   ]
  },
  {
   "cell_type": "code",
   "execution_count": 19,
   "metadata": {},
   "outputs": [
    {
     "data": {
      "image/png": "[encoded data removed]",
      "text/plain": [
       "<Figure size 720x720 with 6 Axes>"
      ]
     },
     "metadata": {
      "needs_background": "light"
     },
     "output_type": "display_data"
    }
   ],
   "source": [
    "fig = plt.figure(figsize=(10,10))\n",
    "\n",
    "plt.subplot(3,2,1)\n",
    "sns.histplot(df_cleaned['age'], bins=10, kde=True, alpha=0.4, edgecolor=(1,1,1,.4))\n",
    "plt.title('Age Distribution')\n",
    "\n",
    "plt.subplot(3,2,2)\n",
    "sns.boxplot(df_cleaned['age'])\n",
    "plt.title('Age Distribution - Boxplot')\n",
    "\n",
    "plt.subplot(3,2,3)\n",
    "sns.histplot(df_cleaned['avg_glucose_level'], bins=10, kde=True, alpha=0.4, edgecolor=(1,1,1,.4))\n",
    "plt.title('Average Glucose Level Distribution')\n",
    "\n",
    "plt.subplot(3,2,4)\n",
    "sns.boxplot(df_cleaned['avg_glucose_level'])\n",
    "plt.title('Avg. Glucose Level Dist. - Boxplot')\n",
    "\n",
    "plt.subplot(3,2,5)\n",
    "sns.histplot(df_cleaned['bmi'], bins=10, kde=True, alpha=0.4, edgecolor=(1,1,1,.4))\n",
    "plt.title('BMI Distribution')\n",
    "\n",
    "plt.subplot(3,2,6)\n",
    "sns.boxplot(df_cleaned['bmi'])\n",
    "plt.title('BMI Distribution - Boxplot')\n",
    "\n",
    "plt.tight_layout()\n",
    "plt.show()"
   ]
  },
  {
   "cell_type": "markdown",
   "metadata": {},
   "source": [
    "Average glucose level and BMI have right skewed distributions, with outliers. Outliers will be handled via Winsorization."
   ]
  },
  {
   "cell_type": "markdown",
   "metadata": {},
   "source": [
    "#### Outlier Handling"
   ]
  },
  {
   "cell_type": "markdown",
   "metadata": {},
   "source": [
    "#### Winsorizer"
   ]
  },
  {
   "cell_type": "code",
   "execution_count": 20,
   "metadata": {},
   "outputs": [],
   "source": [
    "df_outliers = df_cleaned.copy()\n",
    "df_outliers_num = df_outliers[['avg_glucose_level', 'bmi']]"
   ]
  },
  {
   "cell_type": "code",
   "execution_count": 21,
   "metadata": {},
   "outputs": [],
   "source": [
    "# initialize winsorizer\n",
    "win = Winsorizer(tail='both', fold=2)\n",
    "\n",
    "# fit to glucose level and bmi and save as df\n",
    "winsorized = win.fit_transform(df_outliers_num)\n",
    "winsorized.columns=['avg_glucose_level', 'bmi']\n",
    "\n",
    "# drop original data and replace with winsorized\n",
    "df_win = df_outliers.drop(['avg_glucose_level', 'bmi'], axis=1)\n",
    "df_win = pd.concat((df_win, winsorized), axis=1)"
   ]
  },
  {
   "cell_type": "markdown",
   "metadata": {},
   "source": [
    "#### LocalOutlierFactor"
   ]
  },
  {
   "cell_type": "code",
   "execution_count": 22,
   "metadata": {},
   "outputs": [
    {
     "name": "stdout",
     "output_type": "stream",
     "text": [
      "Count of Dropped Outliers : 196\n"
     ]
    },
    {
     "data": {
      "image/png": "[encoded data removed]",
      "text/plain": [
       "<Figure size 432x288 with 1 Axes>"
      ]
     },
     "metadata": {
      "needs_background": "light"
     },
     "output_type": "display_data"
    }
   ],
   "source": [
    "# initialize LOF\n",
    "lof = LocalOutlierFactor()\n",
    "\n",
    "# fit to glucose level and bmi\n",
    "y_pred_lof = lof.fit_predict(df_outliers_num)\n",
    "lof_scores = lof.negative_outlier_factor_\n",
    "\n",
    "# transfrm y_pred_lof to -1 and 1 values based on threshold\n",
    "threshold = -1.2\n",
    "y_pred_lof = (lof_scores > threshold) * 2 - 1\n",
    "\n",
    "# create df with lof scores\n",
    "df_lof = df_outliers.copy()\n",
    "df_lof['lof_score'] = y_pred_lof\n",
    "df_lof_clean = df_lof[df_lof['lof_score']==1]\n",
    "\n",
    "# tally dropped datapoints\n",
    "dropped = Counter(df_lof['lof_score'])[-1]\n",
    "print('Count of Dropped Outliers :', dropped)\n",
    "\n",
    "sns.distplot(lof_scores, color='r')\n",
    "plt.axvline(threshold, linestyle='--', color='r')\n",
    "plt.title('Outlier Detection for BMI & Glucose Level')\n",
    "plt.show()"
   ]
  },
  {
   "cell_type": "markdown",
   "metadata": {},
   "source": [
    "#### Histplot Comparison"
   ]
  },
  {
   "cell_type": "code",
   "execution_count": 23,
   "metadata": {},
   "outputs": [
    {
     "data": {
      "image/png": "[encoded data removed]",
      "text/plain": [
       "<Figure size 1080x720 with 9 Axes>"
      ]
     },
     "metadata": {
      "needs_background": "light"
     },
     "output_type": "display_data"
    }
   ],
   "source": [
    "# define dataframes and features to be plotted\n",
    "dfs = [df_cleaned, df_win, df_lof_clean]\n",
    "features = ['age', 'avg_glucose_level', 'bmi']\n",
    "\n",
    "# plot histograms of selected dfs and features\n",
    "fig3 = plt.figure(figsize=(15,10))\n",
    "idx = 1\n",
    "\n",
    "for feature in features:\n",
    "    for data  in dfs:\n",
    "        plt.subplot(3,3,idx)\n",
    "        sns.histplot(data[feature], bins=10, kde=True, alpha=0.4, edgecolor=(1,1,1,.4))\n",
    "        plt.ylabel('')\n",
    "        idx +=1\n",
    "\n",
    "# formatting\n",
    "plt.subplot(3,3,1)\n",
    "plt.title('Raw Dataset')\n",
    "plt.ylabel('Age\\n Distribution', rotation=0, fontsize=15, labelpad=55)\n",
    "\n",
    "plt.subplot(3,3,2)\n",
    "plt.title('Winsorization')\n",
    "\n",
    "plt.subplot(3,3,3)\n",
    "plt.title('Local Outlier Factor')\n",
    "\n",
    "plt.subplot(3,3,4)\n",
    "plt.ylabel('Avg. Glucose\\n Level', rotation=0, fontsize=15, labelpad=55)\n",
    "\n",
    "plt.subplot(3,3,7)\n",
    "plt.ylabel('BMI', rotation=0, fontsize=15, labelpad=55)\n",
    "\n",
    "plt.tight_layout()\n",
    "plt.show()"
   ]
  },
  {
   "cell_type": "markdown",
   "metadata": {
    "tags": []
   },
   "source": [
    "#### Boxplot Comparison"
   ]
  },
  {
   "cell_type": "code",
   "execution_count": 24,
   "metadata": {},
   "outputs": [
    {
     "data": {
      "image/png": "[encoded data removed]",
      "text/plain": [
       "<Figure size 1080x720 with 9 Axes>"
      ]
     },
     "metadata": {
      "needs_background": "light"
     },
     "output_type": "display_data"
    }
   ],
   "source": [
    "# define dataframes and features to be plotted\n",
    "dfs = [df_cleaned, df_win, df_lof_clean]\n",
    "features = ['age', 'avg_glucose_level', 'bmi']\n",
    "\n",
    "# plot histograms of selected dfs and features\n",
    "fig3 = plt.figure(figsize=(15,10))\n",
    "idx = 1\n",
    "\n",
    "for feature in features:\n",
    "    for data  in dfs:\n",
    "        plt.subplot(3,3,idx)\n",
    "        sns.boxplot(data[feature])\n",
    "        plt.ylabel('')\n",
    "        idx +=1\n",
    "\n",
    "# formatting\n",
    "plt.subplot(3,3,1)\n",
    "plt.title('Raw Dataset')\n",
    "plt.ylabel('Age\\n Distribution', rotation=0, fontsize=15, labelpad=55)\n",
    "\n",
    "plt.subplot(3,3,2)\n",
    "plt.title('Winsorization')\n",
    "\n",
    "plt.subplot(3,3,3)\n",
    "plt.title('Local Outlier Factor')\n",
    "\n",
    "plt.subplot(3,3,4)\n",
    "plt.ylabel('Avg. Glucose\\n Level', rotation=0, fontsize=15, labelpad=55)\n",
    "\n",
    "plt.subplot(3,3,7)\n",
    "plt.ylabel('BMI', rotation=0, fontsize=15, labelpad=55)\n",
    "\n",
    "plt.tight_layout()\n",
    "plt.show()"
   ]
  },
  {
   "cell_type": "markdown",
   "metadata": {},
   "source": [
    "Winsorized data will be used as it more effectively reduced the effect of outliers vs LOF. Outlier handling methods had no remarkable effect on age. Winsorizer notably reduced outliers on avg. glucose level and BMI and limited the max values to 200 and 45 respectively. LOF had a lesser effect on outlier reduction. "
   ]
  },
  {
   "cell_type": "markdown",
   "metadata": {},
   "source": [
    "#### Apply Log Transformation due to skewedness"
   ]
  },
  {
   "cell_type": "code",
   "execution_count": 25,
   "metadata": {},
   "outputs": [
    {
     "data": {
      "image/png": "[encoded data removed]",
      "text/plain": [
       "<Figure size 720x288 with 2 Axes>"
      ]
     },
     "metadata": {
      "needs_background": "light"
     },
     "output_type": "display_data"
    }
   ],
   "source": [
    "plt.figure(figsize=(10,4))\n",
    "\n",
    "plt.subplot(1,2,1)\n",
    "sns.histplot((df_win['avg_glucose_level']), bins=10, kde=True)\n",
    "plt.title('Winsorized Avg. Glucose Level Dist.')\n",
    "\n",
    "plt.subplot(1,2,2)\n",
    "sns.histplot(np.log1p(df_win['avg_glucose_level']), bins=10, kde=True)\n",
    "plt.title('Log Transformed with Winsorization')\n",
    "\n",
    "plt.tight_layout()\n",
    "plt.show()"
   ]
  },
  {
   "cell_type": "code",
   "execution_count": 26,
   "metadata": {},
   "outputs": [
    {
     "data": {
      "text/html": [
       "<div>\n",
       "<style scoped>\n",
       "    .dataframe tbody tr th:only-of-type {\n",
       "        vertical-align: middle;\n",
       "    }\n",
       "\n",
       "    .dataframe tbody tr th {\n",
       "        vertical-align: top;\n",
       "    }\n",
       "\n",
       "    .dataframe thead th {\n",
       "        text-align: right;\n",
       "    }\n",
       "</style>\n",
       "<table border=\"1\" class=\"dataframe\">\n",
       "  <thead>\n",
       "    <tr style=\"text-align: right;\">\n",
       "      <th></th>\n",
       "      <th>gender</th>\n",
       "      <th>age</th>\n",
       "      <th>hypertension</th>\n",
       "      <th>heart_disease</th>\n",
       "      <th>ever_married</th>\n",
       "      <th>work_type</th>\n",
       "      <th>residence_type</th>\n",
       "      <th>smoking_status</th>\n",
       "      <th>stroke</th>\n",
       "      <th>bmi</th>\n",
       "      <th>avg_glucose_level_log</th>\n",
       "    </tr>\n",
       "  </thead>\n",
       "  <tbody>\n",
       "    <tr>\n",
       "      <th>0</th>\n",
       "      <td>male</td>\n",
       "      <td>67.0</td>\n",
       "      <td>no</td>\n",
       "      <td>yes</td>\n",
       "      <td>yes</td>\n",
       "      <td>private</td>\n",
       "      <td>urban</td>\n",
       "      <td>formerly_smoked</td>\n",
       "      <td>1</td>\n",
       "      <td>36.6</td>\n",
       "      <td>5.286759</td>\n",
       "    </tr>\n",
       "    <tr>\n",
       "      <th>1</th>\n",
       "      <td>female</td>\n",
       "      <td>61.0</td>\n",
       "      <td>no</td>\n",
       "      <td>no</td>\n",
       "      <td>yes</td>\n",
       "      <td>self_employed</td>\n",
       "      <td>rural</td>\n",
       "      <td>never_smoked</td>\n",
       "      <td>1</td>\n",
       "      <td>28.1</td>\n",
       "      <td>5.286759</td>\n",
       "    </tr>\n",
       "    <tr>\n",
       "      <th>2</th>\n",
       "      <td>male</td>\n",
       "      <td>80.0</td>\n",
       "      <td>no</td>\n",
       "      <td>yes</td>\n",
       "      <td>yes</td>\n",
       "      <td>private</td>\n",
       "      <td>rural</td>\n",
       "      <td>never_smoked</td>\n",
       "      <td>1</td>\n",
       "      <td>32.5</td>\n",
       "      <td>4.672081</td>\n",
       "    </tr>\n",
       "    <tr>\n",
       "      <th>3</th>\n",
       "      <td>female</td>\n",
       "      <td>49.0</td>\n",
       "      <td>no</td>\n",
       "      <td>no</td>\n",
       "      <td>yes</td>\n",
       "      <td>private</td>\n",
       "      <td>urban</td>\n",
       "      <td>smokes</td>\n",
       "      <td>1</td>\n",
       "      <td>34.4</td>\n",
       "      <td>5.148831</td>\n",
       "    </tr>\n",
       "    <tr>\n",
       "      <th>4</th>\n",
       "      <td>female</td>\n",
       "      <td>79.0</td>\n",
       "      <td>yes</td>\n",
       "      <td>no</td>\n",
       "      <td>yes</td>\n",
       "      <td>self_employed</td>\n",
       "      <td>rural</td>\n",
       "      <td>never_smoked</td>\n",
       "      <td>1</td>\n",
       "      <td>24.0</td>\n",
       "      <td>5.165471</td>\n",
       "    </tr>\n",
       "  </tbody>\n",
       "</table>\n",
       "</div>"
      ],
      "text/plain": [
       "   gender   age hypertension heart_disease ever_married      work_type  \\\n",
       "0    male  67.0           no           yes          yes        private   \n",
       "1  female  61.0           no            no          yes  self_employed   \n",
       "2    male  80.0           no           yes          yes        private   \n",
       "3  female  49.0           no            no          yes        private   \n",
       "4  female  79.0          yes            no          yes  self_employed   \n",
       "\n",
       "  residence_type   smoking_status  stroke   bmi  avg_glucose_level_log  \n",
       "0          urban  formerly_smoked       1  36.6               5.286759  \n",
       "1          rural     never_smoked       1  28.1               5.286759  \n",
       "2          rural     never_smoked       1  32.5               4.672081  \n",
       "3          urban           smokes       1  34.4               5.148831  \n",
       "4          rural     never_smoked       1  24.0               5.165471  "
      ]
     },
     "execution_count": 26,
     "metadata": {},
     "output_type": "execute_result"
    }
   ],
   "source": [
    "df_final = df_win.copy(deep=True)\n",
    "df_final['avg_glucose_level_log'] = np.log1p(df_final['avg_glucose_level'])\n",
    "df_final.drop('avg_glucose_level', axis=1, inplace=True)\n",
    "df_final.head()"
   ]
  },
  {
   "cell_type": "markdown",
   "metadata": {},
   "source": [
    "## Machine Learning Pipeline"
   ]
  },
  {
   "cell_type": "markdown",
   "metadata": {},
   "source": [
    "Outline: \n",
    "\n",
    "1. Convert dataset to one hot encoded features.\n",
    "2. Set up train val holdout split, ensure data is stratified for the split\n",
    "3. Set up machine learning pipeline, ensuring the ff:\n",
    "    * cross validation\n",
    "    * standardization of numerical features\n",
    "    * test sampling techniques\n",
    "    * track runtime, train and val f1 scores.\n",
    "    * explore roc auc curves\n",
    "4. Hypertune selected models via gridsearch and select best based on f1 score"
   ]
  },
  {
   "cell_type": "markdown",
   "metadata": {},
   "source": [
    "### One Hot Encoding"
   ]
  },
  {
   "cell_type": "code",
   "execution_count": 27,
   "metadata": {},
   "outputs": [
    {
     "data": {
      "text/html": [
       "<div>\n",
       "<style scoped>\n",
       "    .dataframe tbody tr th:only-of-type {\n",
       "        vertical-align: middle;\n",
       "    }\n",
       "\n",
       "    .dataframe tbody tr th {\n",
       "        vertical-align: top;\n",
       "    }\n",
       "\n",
       "    .dataframe thead th {\n",
       "        text-align: right;\n",
       "    }\n",
       "</style>\n",
       "<table border=\"1\" class=\"dataframe\">\n",
       "  <thead>\n",
       "    <tr style=\"text-align: right;\">\n",
       "      <th></th>\n",
       "      <th>age</th>\n",
       "      <th>avg_glucose_level_log</th>\n",
       "      <th>bmi</th>\n",
       "      <th>ever_married=no</th>\n",
       "      <th>ever_married=yes</th>\n",
       "      <th>gender=female</th>\n",
       "      <th>gender=male</th>\n",
       "      <th>heart_disease=no</th>\n",
       "      <th>heart_disease=yes</th>\n",
       "      <th>hypertension=no</th>\n",
       "      <th>...</th>\n",
       "      <th>smoking_status=formerly_smoked</th>\n",
       "      <th>smoking_status=never_smoked</th>\n",
       "      <th>smoking_status=smokes</th>\n",
       "      <th>smoking_status=unknown</th>\n",
       "      <th>stroke</th>\n",
       "      <th>work_type=children</th>\n",
       "      <th>work_type=govt_job</th>\n",
       "      <th>work_type=never_worked</th>\n",
       "      <th>work_type=private</th>\n",
       "      <th>work_type=self_employed</th>\n",
       "    </tr>\n",
       "  </thead>\n",
       "  <tbody>\n",
       "    <tr>\n",
       "      <th>0</th>\n",
       "      <td>67.0</td>\n",
       "      <td>5.286759</td>\n",
       "      <td>36.6</td>\n",
       "      <td>0.0</td>\n",
       "      <td>1.0</td>\n",
       "      <td>0.0</td>\n",
       "      <td>1.0</td>\n",
       "      <td>0.0</td>\n",
       "      <td>1.0</td>\n",
       "      <td>1.0</td>\n",
       "      <td>...</td>\n",
       "      <td>1.0</td>\n",
       "      <td>0.0</td>\n",
       "      <td>0.0</td>\n",
       "      <td>0.0</td>\n",
       "      <td>1.0</td>\n",
       "      <td>0.0</td>\n",
       "      <td>0.0</td>\n",
       "      <td>0.0</td>\n",
       "      <td>1.0</td>\n",
       "      <td>0.0</td>\n",
       "    </tr>\n",
       "    <tr>\n",
       "      <th>1</th>\n",
       "      <td>61.0</td>\n",
       "      <td>5.286759</td>\n",
       "      <td>28.1</td>\n",
       "      <td>0.0</td>\n",
       "      <td>1.0</td>\n",
       "      <td>1.0</td>\n",
       "      <td>0.0</td>\n",
       "      <td>1.0</td>\n",
       "      <td>0.0</td>\n",
       "      <td>1.0</td>\n",
       "      <td>...</td>\n",
       "      <td>0.0</td>\n",
       "      <td>1.0</td>\n",
       "      <td>0.0</td>\n",
       "      <td>0.0</td>\n",
       "      <td>1.0</td>\n",
       "      <td>0.0</td>\n",
       "      <td>0.0</td>\n",
       "      <td>0.0</td>\n",
       "      <td>0.0</td>\n",
       "      <td>1.0</td>\n",
       "    </tr>\n",
       "    <tr>\n",
       "      <th>2</th>\n",
       "      <td>80.0</td>\n",
       "      <td>4.672081</td>\n",
       "      <td>32.5</td>\n",
       "      <td>0.0</td>\n",
       "      <td>1.0</td>\n",
       "      <td>0.0</td>\n",
       "      <td>1.0</td>\n",
       "      <td>0.0</td>\n",
       "      <td>1.0</td>\n",
       "      <td>1.0</td>\n",
       "      <td>...</td>\n",
       "      <td>0.0</td>\n",
       "      <td>1.0</td>\n",
       "      <td>0.0</td>\n",
       "      <td>0.0</td>\n",
       "      <td>1.0</td>\n",
       "      <td>0.0</td>\n",
       "      <td>0.0</td>\n",
       "      <td>0.0</td>\n",
       "      <td>1.0</td>\n",
       "      <td>0.0</td>\n",
       "    </tr>\n",
       "    <tr>\n",
       "      <th>3</th>\n",
       "      <td>49.0</td>\n",
       "      <td>5.148831</td>\n",
       "      <td>34.4</td>\n",
       "      <td>0.0</td>\n",
       "      <td>1.0</td>\n",
       "      <td>1.0</td>\n",
       "      <td>0.0</td>\n",
       "      <td>1.0</td>\n",
       "      <td>0.0</td>\n",
       "      <td>1.0</td>\n",
       "      <td>...</td>\n",
       "      <td>0.0</td>\n",
       "      <td>0.0</td>\n",
       "      <td>1.0</td>\n",
       "      <td>0.0</td>\n",
       "      <td>1.0</td>\n",
       "      <td>0.0</td>\n",
       "      <td>0.0</td>\n",
       "      <td>0.0</td>\n",
       "      <td>1.0</td>\n",
       "      <td>0.0</td>\n",
       "    </tr>\n",
       "    <tr>\n",
       "      <th>4</th>\n",
       "      <td>79.0</td>\n",
       "      <td>5.165471</td>\n",
       "      <td>24.0</td>\n",
       "      <td>0.0</td>\n",
       "      <td>1.0</td>\n",
       "      <td>1.0</td>\n",
       "      <td>0.0</td>\n",
       "      <td>1.0</td>\n",
       "      <td>0.0</td>\n",
       "      <td>0.0</td>\n",
       "      <td>...</td>\n",
       "      <td>0.0</td>\n",
       "      <td>1.0</td>\n",
       "      <td>0.0</td>\n",
       "      <td>0.0</td>\n",
       "      <td>1.0</td>\n",
       "      <td>0.0</td>\n",
       "      <td>0.0</td>\n",
       "      <td>0.0</td>\n",
       "      <td>0.0</td>\n",
       "      <td>1.0</td>\n",
       "    </tr>\n",
       "  </tbody>\n",
       "</table>\n",
       "<p>5 rows × 23 columns</p>\n",
       "</div>"
      ],
      "text/plain": [
       "    age  avg_glucose_level_log   bmi  ever_married=no  ever_married=yes  \\\n",
       "0  67.0               5.286759  36.6              0.0               1.0   \n",
       "1  61.0               5.286759  28.1              0.0               1.0   \n",
       "2  80.0               4.672081  32.5              0.0               1.0   \n",
       "3  49.0               5.148831  34.4              0.0               1.0   \n",
       "4  79.0               5.165471  24.0              0.0               1.0   \n",
       "\n",
       "   gender=female  gender=male  heart_disease=no  heart_disease=yes  \\\n",
       "0            0.0          1.0               0.0                1.0   \n",
       "1            1.0          0.0               1.0                0.0   \n",
       "2            0.0          1.0               0.0                1.0   \n",
       "3            1.0          0.0               1.0                0.0   \n",
       "4            1.0          0.0               1.0                0.0   \n",
       "\n",
       "   hypertension=no  ...  smoking_status=formerly_smoked  \\\n",
       "0              1.0  ...                             1.0   \n",
       "1              1.0  ...                             0.0   \n",
       "2              1.0  ...                             0.0   \n",
       "3              1.0  ...                             0.0   \n",
       "4              0.0  ...                             0.0   \n",
       "\n",
       "   smoking_status=never_smoked  smoking_status=smokes  smoking_status=unknown  \\\n",
       "0                          0.0                    0.0                     0.0   \n",
       "1                          1.0                    0.0                     0.0   \n",
       "2                          1.0                    0.0                     0.0   \n",
       "3                          0.0                    1.0                     0.0   \n",
       "4                          1.0                    0.0                     0.0   \n",
       "\n",
       "   stroke  work_type=children  work_type=govt_job  work_type=never_worked  \\\n",
       "0     1.0                 0.0                 0.0                     0.0   \n",
       "1     1.0                 0.0                 0.0                     0.0   \n",
       "2     1.0                 0.0                 0.0                     0.0   \n",
       "3     1.0                 0.0                 0.0                     0.0   \n",
       "4     1.0                 0.0                 0.0                     0.0   \n",
       "\n",
       "   work_type=private  work_type=self_employed  \n",
       "0                1.0                      0.0  \n",
       "1                0.0                      1.0  \n",
       "2                1.0                      0.0  \n",
       "3                1.0                      0.0  \n",
       "4                0.0                      1.0  \n",
       "\n",
       "[5 rows x 23 columns]"
      ]
     },
     "execution_count": 27,
     "metadata": {},
     "output_type": "execute_result"
    }
   ],
   "source": [
    "# initialize and fit the dataset into dictvectorizer\n",
    "dv = DictVectorizer(sparse=False)\n",
    "one_hot = dv.fit_transform(df_final.to_dict(orient='records'))\n",
    "\n",
    "# convert to dataframe\n",
    "df_one_hot = pd.DataFrame(one_hot, columns=dv.feature_names_)\n",
    "df_one_hot.head()"
   ]
  },
  {
   "cell_type": "markdown",
   "metadata": {},
   "source": [
    "### Apply Scaler"
   ]
  },
  {
   "cell_type": "code",
   "execution_count": 28,
   "metadata": {},
   "outputs": [
    {
     "data": {
      "text/html": [
       "<div>\n",
       "<style scoped>\n",
       "    .dataframe tbody tr th:only-of-type {\n",
       "        vertical-align: middle;\n",
       "    }\n",
       "\n",
       "    .dataframe tbody tr th {\n",
       "        vertical-align: top;\n",
       "    }\n",
       "\n",
       "    .dataframe thead th {\n",
       "        text-align: right;\n",
       "    }\n",
       "</style>\n",
       "<table border=\"1\" class=\"dataframe\">\n",
       "  <thead>\n",
       "    <tr style=\"text-align: right;\">\n",
       "      <th></th>\n",
       "      <th>age</th>\n",
       "      <th>avg_glucose_level_log</th>\n",
       "      <th>bmi</th>\n",
       "      <th>ever_married=no</th>\n",
       "      <th>ever_married=yes</th>\n",
       "      <th>gender=female</th>\n",
       "      <th>gender=male</th>\n",
       "      <th>heart_disease=no</th>\n",
       "      <th>heart_disease=yes</th>\n",
       "      <th>hypertension=no</th>\n",
       "      <th>...</th>\n",
       "      <th>smoking_status=formerly_smoked</th>\n",
       "      <th>smoking_status=never_smoked</th>\n",
       "      <th>smoking_status=smokes</th>\n",
       "      <th>smoking_status=unknown</th>\n",
       "      <th>stroke</th>\n",
       "      <th>work_type=children</th>\n",
       "      <th>work_type=govt_job</th>\n",
       "      <th>work_type=never_worked</th>\n",
       "      <th>work_type=private</th>\n",
       "      <th>work_type=self_employed</th>\n",
       "    </tr>\n",
       "  </thead>\n",
       "  <tbody>\n",
       "    <tr>\n",
       "      <th>0</th>\n",
       "      <td>0.816895</td>\n",
       "      <td>1.000000</td>\n",
       "      <td>0.751223</td>\n",
       "      <td>0.0</td>\n",
       "      <td>1.0</td>\n",
       "      <td>0.0</td>\n",
       "      <td>1.0</td>\n",
       "      <td>0.0</td>\n",
       "      <td>1.0</td>\n",
       "      <td>1.0</td>\n",
       "      <td>...</td>\n",
       "      <td>1.0</td>\n",
       "      <td>0.0</td>\n",
       "      <td>0.0</td>\n",
       "      <td>0.0</td>\n",
       "      <td>1.0</td>\n",
       "      <td>0.0</td>\n",
       "      <td>0.0</td>\n",
       "      <td>0.0</td>\n",
       "      <td>1.0</td>\n",
       "      <td>0.0</td>\n",
       "    </tr>\n",
       "    <tr>\n",
       "      <th>1</th>\n",
       "      <td>0.743652</td>\n",
       "      <td>1.000000</td>\n",
       "      <td>0.475214</td>\n",
       "      <td>0.0</td>\n",
       "      <td>1.0</td>\n",
       "      <td>1.0</td>\n",
       "      <td>0.0</td>\n",
       "      <td>1.0</td>\n",
       "      <td>0.0</td>\n",
       "      <td>1.0</td>\n",
       "      <td>...</td>\n",
       "      <td>0.0</td>\n",
       "      <td>1.0</td>\n",
       "      <td>0.0</td>\n",
       "      <td>0.0</td>\n",
       "      <td>1.0</td>\n",
       "      <td>0.0</td>\n",
       "      <td>0.0</td>\n",
       "      <td>0.0</td>\n",
       "      <td>0.0</td>\n",
       "      <td>1.0</td>\n",
       "    </tr>\n",
       "    <tr>\n",
       "      <th>2</th>\n",
       "      <td>0.975586</td>\n",
       "      <td>0.511876</td>\n",
       "      <td>0.618090</td>\n",
       "      <td>0.0</td>\n",
       "      <td>1.0</td>\n",
       "      <td>0.0</td>\n",
       "      <td>1.0</td>\n",
       "      <td>0.0</td>\n",
       "      <td>1.0</td>\n",
       "      <td>1.0</td>\n",
       "      <td>...</td>\n",
       "      <td>0.0</td>\n",
       "      <td>1.0</td>\n",
       "      <td>0.0</td>\n",
       "      <td>0.0</td>\n",
       "      <td>1.0</td>\n",
       "      <td>0.0</td>\n",
       "      <td>0.0</td>\n",
       "      <td>0.0</td>\n",
       "      <td>1.0</td>\n",
       "      <td>0.0</td>\n",
       "    </tr>\n",
       "    <tr>\n",
       "      <th>3</th>\n",
       "      <td>0.597168</td>\n",
       "      <td>0.890470</td>\n",
       "      <td>0.679786</td>\n",
       "      <td>0.0</td>\n",
       "      <td>1.0</td>\n",
       "      <td>1.0</td>\n",
       "      <td>0.0</td>\n",
       "      <td>1.0</td>\n",
       "      <td>0.0</td>\n",
       "      <td>1.0</td>\n",
       "      <td>...</td>\n",
       "      <td>0.0</td>\n",
       "      <td>0.0</td>\n",
       "      <td>1.0</td>\n",
       "      <td>0.0</td>\n",
       "      <td>1.0</td>\n",
       "      <td>0.0</td>\n",
       "      <td>0.0</td>\n",
       "      <td>0.0</td>\n",
       "      <td>1.0</td>\n",
       "      <td>0.0</td>\n",
       "    </tr>\n",
       "    <tr>\n",
       "      <th>4</th>\n",
       "      <td>0.963379</td>\n",
       "      <td>0.903684</td>\n",
       "      <td>0.342081</td>\n",
       "      <td>0.0</td>\n",
       "      <td>1.0</td>\n",
       "      <td>1.0</td>\n",
       "      <td>0.0</td>\n",
       "      <td>1.0</td>\n",
       "      <td>0.0</td>\n",
       "      <td>0.0</td>\n",
       "      <td>...</td>\n",
       "      <td>0.0</td>\n",
       "      <td>1.0</td>\n",
       "      <td>0.0</td>\n",
       "      <td>0.0</td>\n",
       "      <td>1.0</td>\n",
       "      <td>0.0</td>\n",
       "      <td>0.0</td>\n",
       "      <td>0.0</td>\n",
       "      <td>0.0</td>\n",
       "      <td>1.0</td>\n",
       "    </tr>\n",
       "  </tbody>\n",
       "</table>\n",
       "<p>5 rows × 23 columns</p>\n",
       "</div>"
      ],
      "text/plain": [
       "        age  avg_glucose_level_log       bmi  ever_married=no  \\\n",
       "0  0.816895               1.000000  0.751223              0.0   \n",
       "1  0.743652               1.000000  0.475214              0.0   \n",
       "2  0.975586               0.511876  0.618090              0.0   \n",
       "3  0.597168               0.890470  0.679786              0.0   \n",
       "4  0.963379               0.903684  0.342081              0.0   \n",
       "\n",
       "   ever_married=yes  gender=female  gender=male  heart_disease=no  \\\n",
       "0               1.0            0.0          1.0               0.0   \n",
       "1               1.0            1.0          0.0               1.0   \n",
       "2               1.0            0.0          1.0               0.0   \n",
       "3               1.0            1.0          0.0               1.0   \n",
       "4               1.0            1.0          0.0               1.0   \n",
       "\n",
       "   heart_disease=yes  hypertension=no  ...  smoking_status=formerly_smoked  \\\n",
       "0                1.0              1.0  ...                             1.0   \n",
       "1                0.0              1.0  ...                             0.0   \n",
       "2                1.0              1.0  ...                             0.0   \n",
       "3                0.0              1.0  ...                             0.0   \n",
       "4                0.0              0.0  ...                             0.0   \n",
       "\n",
       "   smoking_status=never_smoked  smoking_status=smokes  smoking_status=unknown  \\\n",
       "0                          0.0                    0.0                     0.0   \n",
       "1                          1.0                    0.0                     0.0   \n",
       "2                          1.0                    0.0                     0.0   \n",
       "3                          0.0                    1.0                     0.0   \n",
       "4                          1.0                    0.0                     0.0   \n",
       "\n",
       "   stroke  work_type=children  work_type=govt_job  work_type=never_worked  \\\n",
       "0     1.0                 0.0                 0.0                     0.0   \n",
       "1     1.0                 0.0                 0.0                     0.0   \n",
       "2     1.0                 0.0                 0.0                     0.0   \n",
       "3     1.0                 0.0                 0.0                     0.0   \n",
       "4     1.0                 0.0                 0.0                     0.0   \n",
       "\n",
       "   work_type=private  work_type=self_employed  \n",
       "0                1.0                      0.0  \n",
       "1                0.0                      1.0  \n",
       "2                1.0                      0.0  \n",
       "3                1.0                      0.0  \n",
       "4                0.0                      1.0  \n",
       "\n",
       "[5 rows x 23 columns]"
      ]
     },
     "execution_count": 28,
     "metadata": {},
     "output_type": "execute_result"
    }
   ],
   "source": [
    "minmax = MinMaxScaler()\n",
    "\n",
    "df_scaled = pd.DataFrame(minmax.fit_transform(df_one_hot), columns= dv.feature_names_)\n",
    "df_scaled.head()"
   ]
  },
  {
   "cell_type": "markdown",
   "metadata": {},
   "source": [
    "### Train-Validation-Holdout Split"
   ]
  },
  {
   "cell_type": "code",
   "execution_count": 29,
   "metadata": {},
   "outputs": [],
   "source": [
    "X = df_scaled.drop(['stroke'], axis=1)\n",
    "y = df_scaled['stroke']\n",
    "\n",
    "X_trainval, X_holdout, y_trainval, y_holdout = train_test_split(X, y, random_state=1, test_size=0.25, stratify=y)"
   ]
  },
  {
   "cell_type": "markdown",
   "metadata": {},
   "source": [
    "### Auto Machine Learning Function"
   ]
  },
  {
   "cell_type": "code",
   "execution_count": 30,
   "metadata": {},
   "outputs": [],
   "source": [
    "\"\"\" \n",
    " Define a function that evalutes models based on the parameters given\n",
    " X = features\n",
    " y = target\n",
    " model_dict = dictionary; contains the machine learning models to be used\n",
    " cv = cross-validation method\n",
    " resampling = resampling technique to be used\n",
    "\n",
    "\"\"\"\n",
    "\n",
    "def auto_ml(X, y, model_dict, scaler=None, cv=None, resampling=None):\n",
    "    \n",
    "    results = {}\n",
    "    results_plot = {}\n",
    "    \n",
    "    for model_name, model in tqdm(model_dict.items()):\n",
    "        \n",
    "        train_accuracy = []\n",
    "        val_accuracy = []\n",
    "        \n",
    "        train_precision = []\n",
    "        val_precision = []\n",
    "        \n",
    "        train_recall = []\n",
    "        val_recall = []\n",
    "        \n",
    "        train_f1 = []\n",
    "        val_f1 = []\n",
    "        \n",
    "        runtime = []\n",
    "        \n",
    "        # apply cross validation split \n",
    "        for train_index, val_index in tqdm(cv.split(X, y)):\n",
    "            \n",
    "            X_train, X_val = np.array(X.iloc[train_index]), np.array(X.iloc[val_index])\n",
    "            y_train, y_val = y.iloc[train_index], y.iloc[val_index]\n",
    "            \n",
    "            # Apply scaling\n",
    "            if scaler is not None:\n",
    "                X_train = scaler.fit_transform(X_train)\n",
    "                X_val = scaler.transform(X_val)\n",
    "            else:\n",
    "                pass\n",
    "            \n",
    "            # Apply resampling technique\n",
    "            if resampling is not None:\n",
    "                X_train, y_train = resampling.fit_resample(X_train, y_train)\n",
    "            else:\n",
    "                pass\n",
    "            \n",
    "        # record the start time for model fitting \n",
    "        start_time = time.time()\n",
    "        \n",
    "        # fit model\n",
    "        model.fit(X_train, y_train)\n",
    "        \n",
    "        # predict targets\n",
    "        train_preds = model.predict(X_train)\n",
    "        val_preds = model.predict(X_val)\n",
    "        \n",
    "        # record end time\n",
    "        end_time = time.time()\n",
    "        \n",
    "        ## Evaluation Metrics\n",
    "        \n",
    "        # Accuracy\n",
    "        train_accuracy.append(model.score(X_train, y_train))\n",
    "        val_accuracy.append(model.score(X_val, y_val))\n",
    "        \n",
    "        # Precision\n",
    "        train_precision.append(precision_score(y_train, train_preds))\n",
    "        val_precision.append(precision_score(y_val, val_preds))\n",
    "        \n",
    "        # Recall\n",
    "        train_recall.append(recall_score(y_train, train_preds))\n",
    "        val_recall.append(recall_score(y_val, val_preds))\n",
    "        \n",
    "        # F1-Score\n",
    "        train_f1.append(f1_score(y_train, train_preds))\n",
    "        val_f1.append(f1_score(y_val, val_preds))\n",
    "        \n",
    "        # Runtime\n",
    "        runtime.append(end_time-start_time)\n",
    "        \n",
    "        # Save results to dictionary\n",
    "        \n",
    "        results[model_name] = {\n",
    "            'Train Accuracy': np.round(np.mean(train_accuracy) * 100, 2),\n",
    "            'Val Accuracy': np.round(np.mean(val_accuracy) * 100, 2),\n",
    "            'Train Precision': np.round(np.mean(train_precision) * 100, 2), \n",
    "            'Val Precision': np.round(np.mean(val_precision) * 100, 2),\n",
    "            'Train Recall': np.round(np.mean(train_recall) * 100, 2),\n",
    "            'Val Recall': np.round(np.mean(val_recall) * 100, 2),\n",
    "            'Train F1-Score': np.round(np.mean(train_f1) * 100, 2),\n",
    "            'Val F1-Score': np.round(np.mean(val_f1) * 100, 2),\n",
    "            'Runtime': np.round(np.sum(runtime), 2)\n",
    "        }\n",
    "        \n",
    "        results_plot[model_name] = {\n",
    "                'Train Accuracy': '{:.2f}%'.format(np.round(np.mean(train_accuracy)*100, 2)),\n",
    "                'Val Accuracy': '{:.2f}%'.format(np.round(np.mean(val_accuracy)*100, 2)),\n",
    "                'Train Precision': '{:.2f}%'.format(np.round(np.mean(train_precision)*100, 2)),\n",
    "                'Val Precision': '{:.2f}%'.format(np.round(np.mean(val_precision)*100, 2)),\n",
    "                'Train Recall': '{:.2f}%'.format(np.round(np.mean(train_recall)*100, 2)),\n",
    "                'Val Recall': '{:.2f}%'.format(np.round(np.mean(val_recall)*100, 2)),\n",
    "                'Train F1-Score': '{:.2f}%'.format(np.round(np.mean(train_f1)*100, 2)),\n",
    "                'Val F1-Score': '{:.2f}%'.format(np.round(np.mean(val_f1)*100, 2)),\n",
    "                'Runtime (s)': '{:.2f}'.format(np.round(np.sum(runtime), 2))\n",
    "            }\n",
    "        \n",
    "    results = pd.DataFrame(results).transpose()\n",
    "    results_plot = pd.DataFrame(results_plot).transpose()\n",
    "    return [results, results_plot]"
   ]
  },
  {
   "cell_type": "markdown",
   "metadata": {},
   "source": [
    "### Machine Learning Model Dictionary"
   ]
  },
  {
   "cell_type": "code",
   "execution_count": 32,
   "metadata": {},
   "outputs": [],
   "source": [
    "models_dict = {\n",
    "    'LogisticRegression': LogisticRegression(random_state=1),\n",
    "    'DecisionTreeClassifier': DecisionTreeClassifier(random_state=1), \n",
    "    'RandomForestClassifier': RandomForestClassifier(random_state=1), \n",
    "    'GradientBoostingClassifier': GradientBoostingClassifier(random_state=1), \n",
    "    'AdaBoostClassifier': AdaBoostClassifier(random_state=1),\n",
    "    'ExtraTreesClassifier': ExtraTreesClassifier(random_state=1),\n",
    "    'XGBClassifier': XGBClassifier(random_state=1)\n",
    "}\n"
   ]
  },
  {
   "cell_type": "code",
   "execution_count": 33,
   "metadata": {},
   "outputs": [
    {
     "data": {
      "application/vnd.jupyter.widget-view+json": {
       "model_id": "faf768563a6b458a98fc8274e0021982",
       "version_major": 2,
       "version_minor": 0
      },
      "text/plain": [
       "  0%|          | 0/7 [00:00<?, ?it/s]"
      ]
     },
     "metadata": {},
     "output_type": "display_data"
    },
    {
     "data": {
      "application/vnd.jupyter.widget-view+json": {
       "model_id": "f9aaac2fc2cf49e6b07fe99342007a06",
       "version_major": 2,
       "version_minor": 0
      },
      "text/plain": [
       "0it [00:00, ?it/s]"
      ]
     },
     "metadata": {},
     "output_type": "display_data"
    },
    {
     "data": {
      "application/vnd.jupyter.widget-view+json": {
       "model_id": "4d7cc04cdd8d45a7be670fb636dbf2c3",
       "version_major": 2,
       "version_minor": 0
      },
      "text/plain": [
       "0it [00:00, ?it/s]"
      ]
     },
     "metadata": {},
     "output_type": "display_data"
    },
    {
     "data": {
      "application/vnd.jupyter.widget-view+json": {
       "model_id": "c79dc513d7e64e0884fabb0df016f310",
       "version_major": 2,
       "version_minor": 0
      },
      "text/plain": [
       "0it [00:00, ?it/s]"
      ]
     },
     "metadata": {},
     "output_type": "display_data"
    },
    {
     "data": {
      "application/vnd.jupyter.widget-view+json": {
       "model_id": "56e2c4e157ed465c9bbf6142abca59b1",
       "version_major": 2,
       "version_minor": 0
      },
      "text/plain": [
       "0it [00:00, ?it/s]"
      ]
     },
     "metadata": {},
     "output_type": "display_data"
    },
    {
     "data": {
      "application/vnd.jupyter.widget-view+json": {
       "model_id": "2ee69c7efedd4cc8b94ddd101c4e98a4",
       "version_major": 2,
       "version_minor": 0
      },
      "text/plain": [
       "0it [00:00, ?it/s]"
      ]
     },
     "metadata": {},
     "output_type": "display_data"
    },
    {
     "data": {
      "application/vnd.jupyter.widget-view+json": {
       "model_id": "422ffa0ee8b84113a3629293c93a9e1d",
       "version_major": 2,
       "version_minor": 0
      },
      "text/plain": [
       "0it [00:00, ?it/s]"
      ]
     },
     "metadata": {},
     "output_type": "display_data"
    },
    {
     "data": {
      "application/vnd.jupyter.widget-view+json": {
       "model_id": "0126a021309040c5a8f726493ad2ba57",
       "version_major": 2,
       "version_minor": 0
      },
      "text/plain": [
       "0it [00:00, ?it/s]"
      ]
     },
     "metadata": {},
     "output_type": "display_data"
    },
    {
     "data": {
      "text/html": [
       "<div>\n",
       "<style scoped>\n",
       "    .dataframe tbody tr th:only-of-type {\n",
       "        vertical-align: middle;\n",
       "    }\n",
       "\n",
       "    .dataframe tbody tr th {\n",
       "        vertical-align: top;\n",
       "    }\n",
       "\n",
       "    .dataframe thead th {\n",
       "        text-align: right;\n",
       "    }\n",
       "</style>\n",
       "<table border=\"1\" class=\"dataframe\">\n",
       "  <thead>\n",
       "    <tr style=\"text-align: right;\">\n",
       "      <th></th>\n",
       "      <th>Train Accuracy</th>\n",
       "      <th>Val Accuracy</th>\n",
       "      <th>Train Precision</th>\n",
       "      <th>Val Precision</th>\n",
       "      <th>Train Recall</th>\n",
       "      <th>Val Recall</th>\n",
       "      <th>Train F1-Score</th>\n",
       "      <th>Val F1-Score</th>\n",
       "      <th>Runtime</th>\n",
       "    </tr>\n",
       "  </thead>\n",
       "  <tbody>\n",
       "    <tr>\n",
       "      <th>LogisticRegression</th>\n",
       "      <td>95.14%</td>\n",
       "      <td>95.04%</td>\n",
       "      <td>0.00%</td>\n",
       "      <td>0.00%</td>\n",
       "      <td>0.00%</td>\n",
       "      <td>0.00%</td>\n",
       "      <td>0.00%</td>\n",
       "      <td>0.00%</td>\n",
       "      <td>0.04s</td>\n",
       "    </tr>\n",
       "    <tr>\n",
       "      <th>DecisionTreeClassifier</th>\n",
       "      <td>100.00%</td>\n",
       "      <td>89.30%</td>\n",
       "      <td>100.00%</td>\n",
       "      <td>12.07%</td>\n",
       "      <td>100.00%</td>\n",
       "      <td>18.42%</td>\n",
       "      <td>100.00%</td>\n",
       "      <td>14.58%</td>\n",
       "      <td>0.01s</td>\n",
       "    </tr>\n",
       "    <tr>\n",
       "      <th>RandomForestClassifier</th>\n",
       "      <td>99.97%</td>\n",
       "      <td>94.78%</td>\n",
       "      <td>100.00%</td>\n",
       "      <td>0.00%</td>\n",
       "      <td>99.33%</td>\n",
       "      <td>0.00%</td>\n",
       "      <td>99.66%</td>\n",
       "      <td>0.00%</td>\n",
       "      <td>0.34s</td>\n",
       "    </tr>\n",
       "    <tr>\n",
       "      <th>GradientBoostingClassifier</th>\n",
       "      <td>96.05%</td>\n",
       "      <td>94.39%</td>\n",
       "      <td>86.84%</td>\n",
       "      <td>14.29%</td>\n",
       "      <td>22.15%</td>\n",
       "      <td>2.63%</td>\n",
       "      <td>35.29%</td>\n",
       "      <td>4.44%</td>\n",
       "      <td>0.46s</td>\n",
       "    </tr>\n",
       "    <tr>\n",
       "      <th>AdaBoostClassifier</th>\n",
       "      <td>95.14%</td>\n",
       "      <td>94.78%</td>\n",
       "      <td>50.00%</td>\n",
       "      <td>0.00%</td>\n",
       "      <td>4.70%</td>\n",
       "      <td>0.00%</td>\n",
       "      <td>8.59%</td>\n",
       "      <td>0.00%</td>\n",
       "      <td>0.19s</td>\n",
       "    </tr>\n",
       "    <tr>\n",
       "      <th>ExtraTreesClassifier</th>\n",
       "      <td>100.00%</td>\n",
       "      <td>93.86%</td>\n",
       "      <td>100.00%</td>\n",
       "      <td>20.00%</td>\n",
       "      <td>100.00%</td>\n",
       "      <td>7.89%</td>\n",
       "      <td>100.00%</td>\n",
       "      <td>11.32%</td>\n",
       "      <td>0.27s</td>\n",
       "    </tr>\n",
       "    <tr>\n",
       "      <th>XGBClassifier</th>\n",
       "      <td>99.97%</td>\n",
       "      <td>92.82%</td>\n",
       "      <td>100.00%</td>\n",
       "      <td>16.00%</td>\n",
       "      <td>99.33%</td>\n",
       "      <td>10.53%</td>\n",
       "      <td>99.66%</td>\n",
       "      <td>12.70%</td>\n",
       "      <td>1.43s</td>\n",
       "    </tr>\n",
       "  </tbody>\n",
       "</table>\n",
       "</div>"
      ],
      "text/plain": [
       "                           Train Accuracy Val Accuracy Train Precision  \\\n",
       "LogisticRegression                 95.14%       95.04%           0.00%   \n",
       "DecisionTreeClassifier            100.00%       89.30%         100.00%   \n",
       "RandomForestClassifier             99.97%       94.78%         100.00%   \n",
       "GradientBoostingClassifier         96.05%       94.39%          86.84%   \n",
       "AdaBoostClassifier                 95.14%       94.78%          50.00%   \n",
       "ExtraTreesClassifier              100.00%       93.86%         100.00%   \n",
       "XGBClassifier                      99.97%       92.82%         100.00%   \n",
       "\n",
       "                           Val Precision Train Recall Val Recall  \\\n",
       "LogisticRegression                 0.00%        0.00%      0.00%   \n",
       "DecisionTreeClassifier            12.07%      100.00%     18.42%   \n",
       "RandomForestClassifier             0.00%       99.33%      0.00%   \n",
       "GradientBoostingClassifier        14.29%       22.15%      2.63%   \n",
       "AdaBoostClassifier                 0.00%        4.70%      0.00%   \n",
       "ExtraTreesClassifier              20.00%      100.00%      7.89%   \n",
       "XGBClassifier                     16.00%       99.33%     10.53%   \n",
       "\n",
       "                           Train F1-Score Val F1-Score Runtime  \n",
       "LogisticRegression                  0.00%        0.00%   0.04s  \n",
       "DecisionTreeClassifier            100.00%       14.58%   0.01s  \n",
       "RandomForestClassifier             99.66%        0.00%   0.34s  \n",
       "GradientBoostingClassifier         35.29%        4.44%   0.46s  \n",
       "AdaBoostClassifier                  8.59%        0.00%   0.19s  \n",
       "ExtraTreesClassifier              100.00%       11.32%   0.27s  \n",
       "XGBClassifier                      99.66%       12.70%   1.43s  "
      ]
     },
     "execution_count": 33,
     "metadata": {},
     "output_type": "execute_result"
    }
   ],
   "source": [
    "base_models = auto_ml(X_trainval, y_trainval, models_dict,\n",
    "                      cv=StratifiedKFold(n_splits=5))\n",
    "base_models[1]"
   ]
  },
  {
   "cell_type": "markdown",
   "metadata": {},
   "source": [
    "### Apply Resampling Techniques"
   ]
  },
  {
   "cell_type": "code",
   "execution_count": 34,
   "metadata": {},
   "outputs": [],
   "source": [
    "resampling_tech = {\n",
    "    'SMOTE': SMOTE(random_state=1), \n",
    "    'ADASYN': ADASYN(random_state=1),\n",
    "    'TomekLinks': TomekLinks()\n",
    "}\n"
   ]
  },
  {
   "cell_type": "code",
   "execution_count": 35,
   "metadata": {},
   "outputs": [
    {
     "name": "stdout",
     "output_type": "stream",
     "text": [
      "---------------------------------------------------------SMOTE----------------------------------------------------------\n"
     ]
    },
    {
     "data": {
      "application/vnd.jupyter.widget-view+json": {
       "model_id": "ea1c5b9d25b04ad98cbe17e3b40b6135",
       "version_major": 2,
       "version_minor": 0
      },
      "text/plain": [
       "  0%|          | 0/7 [00:00<?, ?it/s]"
      ]
     },
     "metadata": {},
     "output_type": "display_data"
    },
    {
     "data": {
      "application/vnd.jupyter.widget-view+json": {
       "model_id": "578ba90655cf45a8ae009efe95ed7075",
       "version_major": 2,
       "version_minor": 0
      },
      "text/plain": [
       "0it [00:00, ?it/s]"
      ]
     },
     "metadata": {},
     "output_type": "display_data"
    },
    {
     "data": {
      "application/vnd.jupyter.widget-view+json": {
       "model_id": "c0a57f673a374266a00cade4d4b4839b",
       "version_major": 2,
       "version_minor": 0
      },
      "text/plain": [
       "0it [00:00, ?it/s]"
      ]
     },
     "metadata": {},
     "output_type": "display_data"
    },
    {
     "data": {
      "application/vnd.jupyter.widget-view+json": {
       "model_id": "88bd98f615f84eb19644fe0d560a5789",
       "version_major": 2,
       "version_minor": 0
      },
      "text/plain": [
       "0it [00:00, ?it/s]"
      ]
     },
     "metadata": {},
     "output_type": "display_data"
    },
    {
     "data": {
      "application/vnd.jupyter.widget-view+json": {
       "model_id": "3eaa4405107840408fb37987fa34df84",
       "version_major": 2,
       "version_minor": 0
      },
      "text/plain": [
       "0it [00:00, ?it/s]"
      ]
     },
     "metadata": {},
     "output_type": "display_data"
    },
    {
     "data": {
      "application/vnd.jupyter.widget-view+json": {
       "model_id": "8dfd372fd42140ea989740d9791aeace",
       "version_major": 2,
       "version_minor": 0
      },
      "text/plain": [
       "0it [00:00, ?it/s]"
      ]
     },
     "metadata": {},
     "output_type": "display_data"
    },
    {
     "data": {
      "application/vnd.jupyter.widget-view+json": {
       "model_id": "7c37ff91ba474c1fbeb1d97c5c00d1d5",
       "version_major": 2,
       "version_minor": 0
      },
      "text/plain": [
       "0it [00:00, ?it/s]"
      ]
     },
     "metadata": {},
     "output_type": "display_data"
    },
    {
     "data": {
      "application/vnd.jupyter.widget-view+json": {
       "model_id": "5e11836f1d0345e28ec0f76ddc8f7ea7",
       "version_major": 2,
       "version_minor": 0
      },
      "text/plain": [
       "0it [00:00, ?it/s]"
      ]
     },
     "metadata": {},
     "output_type": "display_data"
    },
    {
     "data": {
      "text/html": [
       "<div>\n",
       "<style scoped>\n",
       "    .dataframe tbody tr th:only-of-type {\n",
       "        vertical-align: middle;\n",
       "    }\n",
       "\n",
       "    .dataframe tbody tr th {\n",
       "        vertical-align: top;\n",
       "    }\n",
       "\n",
       "    .dataframe thead th {\n",
       "        text-align: right;\n",
       "    }\n",
       "</style>\n",
       "<table border=\"1\" class=\"dataframe\">\n",
       "  <thead>\n",
       "    <tr style=\"text-align: right;\">\n",
       "      <th></th>\n",
       "      <th>Train Accuracy</th>\n",
       "      <th>Val Accuracy</th>\n",
       "      <th>Train Precision</th>\n",
       "      <th>Val Precision</th>\n",
       "      <th>Train Recall</th>\n",
       "      <th>Val Recall</th>\n",
       "      <th>Train F1-Score</th>\n",
       "      <th>Val F1-Score</th>\n",
       "      <th>Runtime</th>\n",
       "    </tr>\n",
       "  </thead>\n",
       "  <tbody>\n",
       "    <tr>\n",
       "      <th>LogisticRegression</th>\n",
       "      <td>78.98%</td>\n",
       "      <td>74.80%</td>\n",
       "      <td>76.51%</td>\n",
       "      <td>14.61%</td>\n",
       "      <td>83.64%</td>\n",
       "      <td>84.21%</td>\n",
       "      <td>79.91%</td>\n",
       "      <td>24.90%</td>\n",
       "      <td>0.05s</td>\n",
       "    </tr>\n",
       "    <tr>\n",
       "      <th>DecisionTreeClassifier</th>\n",
       "      <td>100.00%</td>\n",
       "      <td>85.90%</td>\n",
       "      <td>100.00%</td>\n",
       "      <td>11.96%</td>\n",
       "      <td>100.00%</td>\n",
       "      <td>28.95%</td>\n",
       "      <td>100.00%</td>\n",
       "      <td>16.92%</td>\n",
       "      <td>0.05s</td>\n",
       "    </tr>\n",
       "    <tr>\n",
       "      <th>RandomForestClassifier</th>\n",
       "      <td>100.00%</td>\n",
       "      <td>90.86%</td>\n",
       "      <td>100.00%</td>\n",
       "      <td>11.90%</td>\n",
       "      <td>100.00%</td>\n",
       "      <td>13.16%</td>\n",
       "      <td>100.00%</td>\n",
       "      <td>12.50%</td>\n",
       "      <td>0.92s</td>\n",
       "    </tr>\n",
       "    <tr>\n",
       "      <th>GradientBoostingClassifier</th>\n",
       "      <td>92.10%</td>\n",
       "      <td>84.20%</td>\n",
       "      <td>89.89%</td>\n",
       "      <td>12.61%</td>\n",
       "      <td>94.86%</td>\n",
       "      <td>36.84%</td>\n",
       "      <td>92.31%</td>\n",
       "      <td>18.79%</td>\n",
       "      <td>1.42s</td>\n",
       "    </tr>\n",
       "    <tr>\n",
       "      <th>AdaBoostClassifier</th>\n",
       "      <td>85.77%</td>\n",
       "      <td>77.81%</td>\n",
       "      <td>82.13%</td>\n",
       "      <td>14.13%</td>\n",
       "      <td>91.43%</td>\n",
       "      <td>68.42%</td>\n",
       "      <td>86.53%</td>\n",
       "      <td>23.42%</td>\n",
       "      <td>0.38s</td>\n",
       "    </tr>\n",
       "    <tr>\n",
       "      <th>ExtraTreesClassifier</th>\n",
       "      <td>100.00%</td>\n",
       "      <td>91.38%</td>\n",
       "      <td>100.00%</td>\n",
       "      <td>15.00%</td>\n",
       "      <td>100.00%</td>\n",
       "      <td>15.79%</td>\n",
       "      <td>100.00%</td>\n",
       "      <td>15.38%</td>\n",
       "      <td>0.59s</td>\n",
       "    </tr>\n",
       "    <tr>\n",
       "      <th>XGBClassifier</th>\n",
       "      <td>99.76%</td>\n",
       "      <td>89.95%</td>\n",
       "      <td>99.79%</td>\n",
       "      <td>10.20%</td>\n",
       "      <td>99.73%</td>\n",
       "      <td>13.16%</td>\n",
       "      <td>99.76%</td>\n",
       "      <td>11.49%</td>\n",
       "      <td>0.14s</td>\n",
       "    </tr>\n",
       "  </tbody>\n",
       "</table>\n",
       "</div>"
      ],
      "text/plain": [
       "                           Train Accuracy Val Accuracy Train Precision  \\\n",
       "LogisticRegression                 78.98%       74.80%          76.51%   \n",
       "DecisionTreeClassifier            100.00%       85.90%         100.00%   \n",
       "RandomForestClassifier            100.00%       90.86%         100.00%   \n",
       "GradientBoostingClassifier         92.10%       84.20%          89.89%   \n",
       "AdaBoostClassifier                 85.77%       77.81%          82.13%   \n",
       "ExtraTreesClassifier              100.00%       91.38%         100.00%   \n",
       "XGBClassifier                      99.76%       89.95%          99.79%   \n",
       "\n",
       "                           Val Precision Train Recall Val Recall  \\\n",
       "LogisticRegression                14.61%       83.64%     84.21%   \n",
       "DecisionTreeClassifier            11.96%      100.00%     28.95%   \n",
       "RandomForestClassifier            11.90%      100.00%     13.16%   \n",
       "GradientBoostingClassifier        12.61%       94.86%     36.84%   \n",
       "AdaBoostClassifier                14.13%       91.43%     68.42%   \n",
       "ExtraTreesClassifier              15.00%      100.00%     15.79%   \n",
       "XGBClassifier                     10.20%       99.73%     13.16%   \n",
       "\n",
       "                           Train F1-Score Val F1-Score Runtime  \n",
       "LogisticRegression                 79.91%       24.90%   0.05s  \n",
       "DecisionTreeClassifier            100.00%       16.92%   0.05s  \n",
       "RandomForestClassifier            100.00%       12.50%   0.92s  \n",
       "GradientBoostingClassifier         92.31%       18.79%   1.42s  \n",
       "AdaBoostClassifier                 86.53%       23.42%   0.38s  \n",
       "ExtraTreesClassifier              100.00%       15.38%   0.59s  \n",
       "XGBClassifier                      99.76%       11.49%   0.14s  "
      ]
     },
     "metadata": {},
     "output_type": "display_data"
    },
    {
     "name": "stdout",
     "output_type": "stream",
     "text": [
      "---------------------------------------------------------ADASYN---------------------------------------------------------\n"
     ]
    },
    {
     "data": {
      "application/vnd.jupyter.widget-view+json": {
       "model_id": "3ad18aca4df34b22b123025c63524711",
       "version_major": 2,
       "version_minor": 0
      },
      "text/plain": [
       "  0%|          | 0/7 [00:00<?, ?it/s]"
      ]
     },
     "metadata": {},
     "output_type": "display_data"
    },
    {
     "data": {
      "application/vnd.jupyter.widget-view+json": {
       "model_id": "5a3d67d5dc544222a7546a010bde4b95",
       "version_major": 2,
       "version_minor": 0
      },
      "text/plain": [
       "0it [00:00, ?it/s]"
      ]
     },
     "metadata": {},
     "output_type": "display_data"
    },
    {
     "data": {
      "application/vnd.jupyter.widget-view+json": {
       "model_id": "4a8977011397400eaa2eaff20e8389df",
       "version_major": 2,
       "version_minor": 0
      },
      "text/plain": [
       "0it [00:00, ?it/s]"
      ]
     },
     "metadata": {},
     "output_type": "display_data"
    },
    {
     "data": {
      "application/vnd.jupyter.widget-view+json": {
       "model_id": "d107de5664dc46de9be9370ac3870f99",
       "version_major": 2,
       "version_minor": 0
      },
      "text/plain": [
       "0it [00:00, ?it/s]"
      ]
     },
     "metadata": {},
     "output_type": "display_data"
    },
    {
     "data": {
      "application/vnd.jupyter.widget-view+json": {
       "model_id": "44fe5ae15af5473cbaf0efb5d1ca3610",
       "version_major": 2,
       "version_minor": 0
      },
      "text/plain": [
       "0it [00:00, ?it/s]"
      ]
     },
     "metadata": {},
     "output_type": "display_data"
    },
    {
     "data": {
      "application/vnd.jupyter.widget-view+json": {
       "model_id": "c2f91cd91a2a4923b0b7f6ae179624b3",
       "version_major": 2,
       "version_minor": 0
      },
      "text/plain": [
       "0it [00:00, ?it/s]"
      ]
     },
     "metadata": {},
     "output_type": "display_data"
    },
    {
     "data": {
      "application/vnd.jupyter.widget-view+json": {
       "model_id": "60e264b4b2724672811b2c9a5fc8b4fa",
       "version_major": 2,
       "version_minor": 0
      },
      "text/plain": [
       "0it [00:00, ?it/s]"
      ]
     },
     "metadata": {},
     "output_type": "display_data"
    },
    {
     "data": {
      "application/vnd.jupyter.widget-view+json": {
       "model_id": "679635bfcbc5481c8b0d68346836fe28",
       "version_major": 2,
       "version_minor": 0
      },
      "text/plain": [
       "0it [00:00, ?it/s]"
      ]
     },
     "metadata": {},
     "output_type": "display_data"
    },
    {
     "data": {
      "text/html": [
       "<div>\n",
       "<style scoped>\n",
       "    .dataframe tbody tr th:only-of-type {\n",
       "        vertical-align: middle;\n",
       "    }\n",
       "\n",
       "    .dataframe tbody tr th {\n",
       "        vertical-align: top;\n",
       "    }\n",
       "\n",
       "    .dataframe thead th {\n",
       "        text-align: right;\n",
       "    }\n",
       "</style>\n",
       "<table border=\"1\" class=\"dataframe\">\n",
       "  <thead>\n",
       "    <tr style=\"text-align: right;\">\n",
       "      <th></th>\n",
       "      <th>Train Accuracy</th>\n",
       "      <th>Val Accuracy</th>\n",
       "      <th>Train Precision</th>\n",
       "      <th>Val Precision</th>\n",
       "      <th>Train Recall</th>\n",
       "      <th>Val Recall</th>\n",
       "      <th>Train F1-Score</th>\n",
       "      <th>Val F1-Score</th>\n",
       "      <th>Runtime</th>\n",
       "    </tr>\n",
       "  </thead>\n",
       "  <tbody>\n",
       "    <tr>\n",
       "      <th>LogisticRegression</th>\n",
       "      <td>79.41%</td>\n",
       "      <td>74.02%</td>\n",
       "      <td>76.58%</td>\n",
       "      <td>14.22%</td>\n",
       "      <td>84.80%</td>\n",
       "      <td>84.21%</td>\n",
       "      <td>80.48%</td>\n",
       "      <td>24.33%</td>\n",
       "      <td>0.04s</td>\n",
       "    </tr>\n",
       "    <tr>\n",
       "      <th>DecisionTreeClassifier</th>\n",
       "      <td>100.00%</td>\n",
       "      <td>84.33%</td>\n",
       "      <td>100.00%</td>\n",
       "      <td>7.29%</td>\n",
       "      <td>100.00%</td>\n",
       "      <td>18.42%</td>\n",
       "      <td>100.00%</td>\n",
       "      <td>10.45%</td>\n",
       "      <td>0.05s</td>\n",
       "    </tr>\n",
       "    <tr>\n",
       "      <th>RandomForestClassifier</th>\n",
       "      <td>100.00%</td>\n",
       "      <td>90.21%</td>\n",
       "      <td>100.00%</td>\n",
       "      <td>10.64%</td>\n",
       "      <td>100.00%</td>\n",
       "      <td>13.16%</td>\n",
       "      <td>100.00%</td>\n",
       "      <td>11.76%</td>\n",
       "      <td>0.95s</td>\n",
       "    </tr>\n",
       "    <tr>\n",
       "      <th>GradientBoostingClassifier</th>\n",
       "      <td>91.62%</td>\n",
       "      <td>84.60%</td>\n",
       "      <td>89.08%</td>\n",
       "      <td>14.29%</td>\n",
       "      <td>94.90%</td>\n",
       "      <td>42.11%</td>\n",
       "      <td>91.90%</td>\n",
       "      <td>21.33%</td>\n",
       "      <td>1.43s</td>\n",
       "    </tr>\n",
       "    <tr>\n",
       "      <th>AdaBoostClassifier</th>\n",
       "      <td>85.66%</td>\n",
       "      <td>75.46%</td>\n",
       "      <td>81.33%</td>\n",
       "      <td>13.59%</td>\n",
       "      <td>92.61%</td>\n",
       "      <td>73.68%</td>\n",
       "      <td>86.61%</td>\n",
       "      <td>22.95%</td>\n",
       "      <td>0.38s</td>\n",
       "    </tr>\n",
       "    <tr>\n",
       "      <th>ExtraTreesClassifier</th>\n",
       "      <td>100.00%</td>\n",
       "      <td>91.38%</td>\n",
       "      <td>100.00%</td>\n",
       "      <td>13.16%</td>\n",
       "      <td>100.00%</td>\n",
       "      <td>13.16%</td>\n",
       "      <td>100.00%</td>\n",
       "      <td>13.16%</td>\n",
       "      <td>0.57s</td>\n",
       "    </tr>\n",
       "    <tr>\n",
       "      <th>XGBClassifier</th>\n",
       "      <td>99.90%</td>\n",
       "      <td>89.82%</td>\n",
       "      <td>99.93%</td>\n",
       "      <td>10.00%</td>\n",
       "      <td>99.86%</td>\n",
       "      <td>13.16%</td>\n",
       "      <td>99.90%</td>\n",
       "      <td>11.36%</td>\n",
       "      <td>0.13s</td>\n",
       "    </tr>\n",
       "  </tbody>\n",
       "</table>\n",
       "</div>"
      ],
      "text/plain": [
       "                           Train Accuracy Val Accuracy Train Precision  \\\n",
       "LogisticRegression                 79.41%       74.02%          76.58%   \n",
       "DecisionTreeClassifier            100.00%       84.33%         100.00%   \n",
       "RandomForestClassifier            100.00%       90.21%         100.00%   \n",
       "GradientBoostingClassifier         91.62%       84.60%          89.08%   \n",
       "AdaBoostClassifier                 85.66%       75.46%          81.33%   \n",
       "ExtraTreesClassifier              100.00%       91.38%         100.00%   \n",
       "XGBClassifier                      99.90%       89.82%          99.93%   \n",
       "\n",
       "                           Val Precision Train Recall Val Recall  \\\n",
       "LogisticRegression                14.22%       84.80%     84.21%   \n",
       "DecisionTreeClassifier             7.29%      100.00%     18.42%   \n",
       "RandomForestClassifier            10.64%      100.00%     13.16%   \n",
       "GradientBoostingClassifier        14.29%       94.90%     42.11%   \n",
       "AdaBoostClassifier                13.59%       92.61%     73.68%   \n",
       "ExtraTreesClassifier              13.16%      100.00%     13.16%   \n",
       "XGBClassifier                     10.00%       99.86%     13.16%   \n",
       "\n",
       "                           Train F1-Score Val F1-Score Runtime  \n",
       "LogisticRegression                 80.48%       24.33%   0.04s  \n",
       "DecisionTreeClassifier            100.00%       10.45%   0.05s  \n",
       "RandomForestClassifier            100.00%       11.76%   0.95s  \n",
       "GradientBoostingClassifier         91.90%       21.33%   1.43s  \n",
       "AdaBoostClassifier                 86.61%       22.95%   0.38s  \n",
       "ExtraTreesClassifier              100.00%       13.16%   0.57s  \n",
       "XGBClassifier                      99.90%       11.36%   0.13s  "
      ]
     },
     "metadata": {},
     "output_type": "display_data"
    },
    {
     "name": "stdout",
     "output_type": "stream",
     "text": [
      "-------------------------------------------------------TomekLinks-------------------------------------------------------\n"
     ]
    },
    {
     "data": {
      "application/vnd.jupyter.widget-view+json": {
       "model_id": "39b83333386c44ea99d3b2d128613f5e",
       "version_major": 2,
       "version_minor": 0
      },
      "text/plain": [
       "  0%|          | 0/7 [00:00<?, ?it/s]"
      ]
     },
     "metadata": {},
     "output_type": "display_data"
    },
    {
     "data": {
      "application/vnd.jupyter.widget-view+json": {
       "model_id": "4d11053802ae41658c345712e9694e6d",
       "version_major": 2,
       "version_minor": 0
      },
      "text/plain": [
       "0it [00:00, ?it/s]"
      ]
     },
     "metadata": {},
     "output_type": "display_data"
    },
    {
     "data": {
      "application/vnd.jupyter.widget-view+json": {
       "model_id": "2ab2ac53ae1d421ca8fc7cd350f72b35",
       "version_major": 2,
       "version_minor": 0
      },
      "text/plain": [
       "0it [00:00, ?it/s]"
      ]
     },
     "metadata": {},
     "output_type": "display_data"
    },
    {
     "data": {
      "application/vnd.jupyter.widget-view+json": {
       "model_id": "d1ae31741d0b488c960212e7efd5409a",
       "version_major": 2,
       "version_minor": 0
      },
      "text/plain": [
       "0it [00:00, ?it/s]"
      ]
     },
     "metadata": {},
     "output_type": "display_data"
    },
    {
     "data": {
      "application/vnd.jupyter.widget-view+json": {
       "model_id": "d5ae7b464aeb42afaa97bfe5f4d859ee",
       "version_major": 2,
       "version_minor": 0
      },
      "text/plain": [
       "0it [00:00, ?it/s]"
      ]
     },
     "metadata": {},
     "output_type": "display_data"
    },
    {
     "data": {
      "application/vnd.jupyter.widget-view+json": {
       "model_id": "3cedace305e943e7bb86711895fb891d",
       "version_major": 2,
       "version_minor": 0
      },
      "text/plain": [
       "0it [00:00, ?it/s]"
      ]
     },
     "metadata": {},
     "output_type": "display_data"
    },
    {
     "data": {
      "application/vnd.jupyter.widget-view+json": {
       "model_id": "7f59b6eb7a684806a5d9de2f766f484e",
       "version_major": 2,
       "version_minor": 0
      },
      "text/plain": [
       "0it [00:00, ?it/s]"
      ]
     },
     "metadata": {},
     "output_type": "display_data"
    },
    {
     "data": {
      "application/vnd.jupyter.widget-view+json": {
       "model_id": "809f601ceffa42e8a92d4c60e64b65d9",
       "version_major": 2,
       "version_minor": 0
      },
      "text/plain": [
       "0it [00:00, ?it/s]"
      ]
     },
     "metadata": {},
     "output_type": "display_data"
    },
    {
     "data": {
      "text/html": [
       "<div>\n",
       "<style scoped>\n",
       "    .dataframe tbody tr th:only-of-type {\n",
       "        vertical-align: middle;\n",
       "    }\n",
       "\n",
       "    .dataframe tbody tr th {\n",
       "        vertical-align: top;\n",
       "    }\n",
       "\n",
       "    .dataframe thead th {\n",
       "        text-align: right;\n",
       "    }\n",
       "</style>\n",
       "<table border=\"1\" class=\"dataframe\">\n",
       "  <thead>\n",
       "    <tr style=\"text-align: right;\">\n",
       "      <th></th>\n",
       "      <th>Train Accuracy</th>\n",
       "      <th>Val Accuracy</th>\n",
       "      <th>Train Precision</th>\n",
       "      <th>Val Precision</th>\n",
       "      <th>Train Recall</th>\n",
       "      <th>Val Recall</th>\n",
       "      <th>Train F1-Score</th>\n",
       "      <th>Val F1-Score</th>\n",
       "      <th>Runtime</th>\n",
       "    </tr>\n",
       "  </thead>\n",
       "  <tbody>\n",
       "    <tr>\n",
       "      <th>LogisticRegression</th>\n",
       "      <td>95.01%</td>\n",
       "      <td>94.91%</td>\n",
       "      <td>0.00%</td>\n",
       "      <td>0.00%</td>\n",
       "      <td>0.00%</td>\n",
       "      <td>0.00%</td>\n",
       "      <td>0.00%</td>\n",
       "      <td>0.00%</td>\n",
       "      <td>0.02s</td>\n",
       "    </tr>\n",
       "    <tr>\n",
       "      <th>DecisionTreeClassifier</th>\n",
       "      <td>100.00%</td>\n",
       "      <td>89.56%</td>\n",
       "      <td>100.00%</td>\n",
       "      <td>12.50%</td>\n",
       "      <td>100.00%</td>\n",
       "      <td>18.42%</td>\n",
       "      <td>100.00%</td>\n",
       "      <td>14.89%</td>\n",
       "      <td>0.01s</td>\n",
       "    </tr>\n",
       "    <tr>\n",
       "      <th>RandomForestClassifier</th>\n",
       "      <td>100.00%</td>\n",
       "      <td>94.39%</td>\n",
       "      <td>100.00%</td>\n",
       "      <td>0.00%</td>\n",
       "      <td>100.00%</td>\n",
       "      <td>0.00%</td>\n",
       "      <td>100.00%</td>\n",
       "      <td>0.00%</td>\n",
       "      <td>0.38s</td>\n",
       "    </tr>\n",
       "    <tr>\n",
       "      <th>GradientBoostingClassifier</th>\n",
       "      <td>96.25%</td>\n",
       "      <td>93.99%</td>\n",
       "      <td>89.36%</td>\n",
       "      <td>16.67%</td>\n",
       "      <td>28.19%</td>\n",
       "      <td>5.26%</td>\n",
       "      <td>42.86%</td>\n",
       "      <td>8.00%</td>\n",
       "      <td>0.49s</td>\n",
       "    </tr>\n",
       "    <tr>\n",
       "      <th>AdaBoostClassifier</th>\n",
       "      <td>94.91%</td>\n",
       "      <td>94.65%</td>\n",
       "      <td>43.48%</td>\n",
       "      <td>20.00%</td>\n",
       "      <td>6.71%</td>\n",
       "      <td>2.63%</td>\n",
       "      <td>11.63%</td>\n",
       "      <td>4.65%</td>\n",
       "      <td>0.21s</td>\n",
       "    </tr>\n",
       "    <tr>\n",
       "      <th>ExtraTreesClassifier</th>\n",
       "      <td>100.00%</td>\n",
       "      <td>93.21%</td>\n",
       "      <td>100.00%</td>\n",
       "      <td>11.11%</td>\n",
       "      <td>100.00%</td>\n",
       "      <td>5.26%</td>\n",
       "      <td>100.00%</td>\n",
       "      <td>7.14%</td>\n",
       "      <td>0.27s</td>\n",
       "    </tr>\n",
       "    <tr>\n",
       "      <th>XGBClassifier</th>\n",
       "      <td>100.00%</td>\n",
       "      <td>93.21%</td>\n",
       "      <td>100.00%</td>\n",
       "      <td>18.18%</td>\n",
       "      <td>100.00%</td>\n",
       "      <td>10.53%</td>\n",
       "      <td>100.00%</td>\n",
       "      <td>13.33%</td>\n",
       "      <td>0.07s</td>\n",
       "    </tr>\n",
       "  </tbody>\n",
       "</table>\n",
       "</div>"
      ],
      "text/plain": [
       "                           Train Accuracy Val Accuracy Train Precision  \\\n",
       "LogisticRegression                 95.01%       94.91%           0.00%   \n",
       "DecisionTreeClassifier            100.00%       89.56%         100.00%   \n",
       "RandomForestClassifier            100.00%       94.39%         100.00%   \n",
       "GradientBoostingClassifier         96.25%       93.99%          89.36%   \n",
       "AdaBoostClassifier                 94.91%       94.65%          43.48%   \n",
       "ExtraTreesClassifier              100.00%       93.21%         100.00%   \n",
       "XGBClassifier                     100.00%       93.21%         100.00%   \n",
       "\n",
       "                           Val Precision Train Recall Val Recall  \\\n",
       "LogisticRegression                 0.00%        0.00%      0.00%   \n",
       "DecisionTreeClassifier            12.50%      100.00%     18.42%   \n",
       "RandomForestClassifier             0.00%      100.00%      0.00%   \n",
       "GradientBoostingClassifier        16.67%       28.19%      5.26%   \n",
       "AdaBoostClassifier                20.00%        6.71%      2.63%   \n",
       "ExtraTreesClassifier              11.11%      100.00%      5.26%   \n",
       "XGBClassifier                     18.18%      100.00%     10.53%   \n",
       "\n",
       "                           Train F1-Score Val F1-Score Runtime  \n",
       "LogisticRegression                  0.00%        0.00%   0.02s  \n",
       "DecisionTreeClassifier            100.00%       14.89%   0.01s  \n",
       "RandomForestClassifier            100.00%        0.00%   0.38s  \n",
       "GradientBoostingClassifier         42.86%        8.00%   0.49s  \n",
       "AdaBoostClassifier                 11.63%        4.65%   0.21s  \n",
       "ExtraTreesClassifier              100.00%        7.14%   0.27s  \n",
       "XGBClassifier                     100.00%       13.33%   0.07s  "
      ]
     },
     "metadata": {},
     "output_type": "display_data"
    }
   ],
   "source": [
    "resampling_summary = []\n",
    "for resampling_name, resampling in resampling_tech.items():\n",
    "    print(colored(resampling_name, 'red', attrs=['bold']).center(120,'-'))\n",
    "    resampling_model = auto_ml(X_trainval, y_trainval, models_dict, \n",
    "                               cv=StratifiedKFold(n_splits=5), resampling=resampling)\n",
    "    resampling_summary.append(resampling_model[0])\n",
    "    display(resampling_model[1])"
   ]
  },
  {
   "cell_type": "code",
   "execution_count": 35,
   "metadata": {},
   "outputs": [
    {
     "data": {
      "text/html": [
       "<div>\n",
       "<style scoped>\n",
       "    .dataframe tbody tr th:only-of-type {\n",
       "        vertical-align: middle;\n",
       "    }\n",
       "\n",
       "    .dataframe tbody tr th {\n",
       "        vertical-align: top;\n",
       "    }\n",
       "\n",
       "    .dataframe thead th {\n",
       "        text-align: right;\n",
       "    }\n",
       "</style>\n",
       "<table border=\"1\" class=\"dataframe\">\n",
       "  <thead>\n",
       "    <tr style=\"text-align: right;\">\n",
       "      <th></th>\n",
       "      <th>No Resampling Val F1-Score</th>\n",
       "      <th>SMOTE Val F1-Score</th>\n",
       "      <th>ADASYN  Val F1-Score</th>\n",
       "      <th>TomekLinks Val F1-Score</th>\n",
       "    </tr>\n",
       "  </thead>\n",
       "  <tbody>\n",
       "    <tr>\n",
       "      <th>LogisticRegression</th>\n",
       "      <td>0.00</td>\n",
       "      <td>24.90</td>\n",
       "      <td>24.33</td>\n",
       "      <td>0.00</td>\n",
       "    </tr>\n",
       "    <tr>\n",
       "      <th>DecisionTreeClassifier</th>\n",
       "      <td>14.58</td>\n",
       "      <td>16.92</td>\n",
       "      <td>10.45</td>\n",
       "      <td>14.89</td>\n",
       "    </tr>\n",
       "    <tr>\n",
       "      <th>RandomForestClassifier</th>\n",
       "      <td>0.00</td>\n",
       "      <td>12.50</td>\n",
       "      <td>11.76</td>\n",
       "      <td>0.00</td>\n",
       "    </tr>\n",
       "    <tr>\n",
       "      <th>GradientBoostingClassifier</th>\n",
       "      <td>4.44</td>\n",
       "      <td>18.79</td>\n",
       "      <td>21.33</td>\n",
       "      <td>8.00</td>\n",
       "    </tr>\n",
       "    <tr>\n",
       "      <th>AdaBoostClassifier</th>\n",
       "      <td>0.00</td>\n",
       "      <td>23.42</td>\n",
       "      <td>22.95</td>\n",
       "      <td>4.65</td>\n",
       "    </tr>\n",
       "    <tr>\n",
       "      <th>ExtraTreesClassifier</th>\n",
       "      <td>11.32</td>\n",
       "      <td>15.38</td>\n",
       "      <td>13.16</td>\n",
       "      <td>7.14</td>\n",
       "    </tr>\n",
       "    <tr>\n",
       "      <th>XGBClassifier</th>\n",
       "      <td>12.70</td>\n",
       "      <td>11.49</td>\n",
       "      <td>11.36</td>\n",
       "      <td>13.33</td>\n",
       "    </tr>\n",
       "  </tbody>\n",
       "</table>\n",
       "</div>"
      ],
      "text/plain": [
       "                            No Resampling Val F1-Score  SMOTE Val F1-Score  \\\n",
       "LogisticRegression                                0.00               24.90   \n",
       "DecisionTreeClassifier                           14.58               16.92   \n",
       "RandomForestClassifier                            0.00               12.50   \n",
       "GradientBoostingClassifier                        4.44               18.79   \n",
       "AdaBoostClassifier                                0.00               23.42   \n",
       "ExtraTreesClassifier                             11.32               15.38   \n",
       "XGBClassifier                                    12.70               11.49   \n",
       "\n",
       "                            ADASYN  Val F1-Score  TomekLinks Val F1-Score  \n",
       "LogisticRegression                         24.33                     0.00  \n",
       "DecisionTreeClassifier                     10.45                    14.89  \n",
       "RandomForestClassifier                     11.76                     0.00  \n",
       "GradientBoostingClassifier                 21.33                     8.00  \n",
       "AdaBoostClassifier                         22.95                     4.65  \n",
       "ExtraTreesClassifier                       13.16                     7.14  \n",
       "XGBClassifier                              11.36                    13.33  "
      ]
     },
     "execution_count": 35,
     "metadata": {},
     "output_type": "execute_result"
    }
   ],
   "source": [
    "summary = pd.DataFrame(index=models_dict.keys())\n",
    "summary['No Resampling Val F1-Score'] = base_models[0]['Val F1-Score']\n",
    "summary['SMOTE Val F1-Score'] = resampling_summary[0]['Val F1-Score']\n",
    "summary['ADASYN  Val F1-Score'] = resampling_summary[1]['Val F1-Score']\n",
    "summary['TomekLinks Val F1-Score'] = resampling_summary[2]['Val F1-Score']\n",
    "summary"
   ]
  },
  {
   "cell_type": "markdown",
   "metadata": {},
   "source": [
    "Try Hypertuning SMOTE and ADASYN resampled datasets"
   ]
  },
  {
   "cell_type": "markdown",
   "metadata": {},
   "source": [
    "## Hyperparameter Tuning"
   ]
  },
  {
   "cell_type": "code",
   "execution_count": 36,
   "metadata": {},
   "outputs": [],
   "source": [
    "resampling_tech = {\n",
    "    'SMOTE': SMOTE(random_state=1), \n",
    "    'ADASYN': ADASYN(random_state=1)\n",
    "}\n"
   ]
  },
  {
   "cell_type": "code",
   "execution_count": 37,
   "metadata": {},
   "outputs": [],
   "source": [
    "def hypertune_ml(X, y, model, param_grid, metric, cv=None, resampling=SMOTE(random_state=1)):\n",
    "    \n",
    "    hpt_metrics = {}\n",
    "    \n",
    "    if resampling is not None: \n",
    "        hpt_pipeline = Pipeline([('resampling', resampling),('model', model)])\n",
    "    else:\n",
    "        hpt_pipeline = Pipeline([('model', model)])\n",
    "    \n",
    "    # formatted params (need to add 'model__' + parameter name for GridSearch to work\n",
    "    \n",
    "    fmt_param = {'model__' + \n",
    "                 key: param_grid[key] for key in param_grid}\n",
    "    \n",
    "    hpt = GridSearchCV(hpt_pipeline, param_grid=fmt_param, scoring=metric,\n",
    "                       cv=cv, return_train_score=True,n_jobs=8)\n",
    "    \n",
    "    start = time.time()\n",
    "    \n",
    "    for params in tqdm(list(ParameterGrid(param_grid)), desc=\"GridSearch Progress\"):\n",
    "        hpt.fit(X, y)\n",
    "    end = time.time()\n",
    "    \n",
    "    hpt_model = hpt.best_estimator_.fit(X, y)\n",
    "    hpt_params = hpt.best_params_\n",
    "    hpt_train = np.mean(hpt.cv_results_['mean_train_score'])\n",
    "    hpt_val = hpt.best_score_\n",
    "    \n",
    "    hpt_metrics[metric] = {\n",
    "        'Train Metric': 100*hpt_train,\n",
    "        'Val Metric': 100*hpt_val\n",
    "    }\n",
    "    \n",
    "    hpt_metrics = pd.DataFrame(hpt_metrics).transpose()\n",
    "    \n",
    "    return [f'Best Parameters: {hpt_params}',\n",
    "            f'Train Metric: {100*hpt_train:0.2f}%',\n",
    "            f'Val Metric: {100*hpt_val:0.2f}%',\n",
    "            f'Runtime (s): {end-start:0.2f}',\n",
    "            hpt_metrics,\n",
    "            hpt_model]\n",
    "        "
   ]
  },
  {
   "cell_type": "markdown",
   "metadata": {},
   "source": [
    "### Hypertuning"
   ]
  },
  {
   "cell_type": "code",
   "execution_count": 37,
   "metadata": {},
   "outputs": [
    {
     "data": {
      "application/vnd.jupyter.widget-view+json": {
       "model_id": "1faf75de278d49358b28680347a311d9",
       "version_major": 2,
       "version_minor": 0
      },
      "text/plain": [
       "GridSearch Progress:   0%|          | 0/5 [00:00<?, ?it/s]"
      ]
     },
     "metadata": {},
     "output_type": "display_data"
    },
    {
     "data": {
      "text/plain": [
       "[\"Best Parameters: {'model__C': 0.05}\",\n",
       " 'Train Metric: 21.89%',\n",
       " 'Val Metric: 23.15%',\n",
       " 'Runtime (s): 3.48',\n",
       "     Train Metric  Val Metric\n",
       " f1      21.89133   23.149464,\n",
       " Pipeline(steps=[('resampling', SMOTE(random_state=1)),\n",
       "                 ('model', LogisticRegression(C=0.05, random_state=1))])]"
      ]
     },
     "execution_count": 37,
     "metadata": {},
     "output_type": "execute_result"
    }
   ],
   "source": [
    "# LogisticRegression\n",
    "param_grid = {\n",
    "    'C': [0.001, 0.005, 0.01, 0.05, 0.1]\n",
    "}\n",
    "\n",
    "lr = hypertune_ml(X_trainval, y_trainval,\n",
    "                   LogisticRegression(random_state=1), param_grid, 'f1', cv=StratifiedKFold(n_splits=5))\n",
    "lr"
   ]
  },
  {
   "cell_type": "code",
   "execution_count": 89,
   "metadata": {},
   "outputs": [
    {
     "data": {
      "application/vnd.jupyter.widget-view+json": {
       "model_id": "5f94d4f1b2914f7ab49b10b963621b3f",
       "version_major": 2,
       "version_minor": 0
      },
      "text/plain": [
       "GridSearch Progress:   0%|          | 0/5 [00:00<?, ?it/s]"
      ]
     },
     "metadata": {},
     "output_type": "display_data"
    },
    {
     "data": {
      "text/plain": [
       "[\"Best Parameters: {'model__C': 0.05}\",\n",
       " 'Train Metric: 21.83%',\n",
       " 'Val Metric: 23.09%',\n",
       " 'Runtime (s): 1.32',\n",
       "     Train Metric  Val Metric\n",
       " f1     21.825872   23.085371,\n",
       " Pipeline(steps=[('resampling', ADASYN(random_state=1)),\n",
       "                 ('model', LogisticRegression(C=0.05, random_state=1))])]"
      ]
     },
     "execution_count": 89,
     "metadata": {},
     "output_type": "execute_result"
    }
   ],
   "source": [
    "# LogisticRegression ADASYN\n",
    "param_grid = {\n",
    "    'C': [0.001, 0.005, 0.01, 0.05, 0.1]\n",
    "}\n",
    "\n",
    "lr_adasyn = hypertune_ml(X_trainval, y_trainval,\n",
    "                   LogisticRegression(random_state=1), param_grid, 'f1', cv=StratifiedKFold(n_splits=5), resampling=ADASYN(random_state=1))\n",
    "lr_adasyn"
   ]
  },
  {
   "cell_type": "code",
   "execution_count": 39,
   "metadata": {},
   "outputs": [
    {
     "data": {
      "application/vnd.jupyter.widget-view+json": {
       "model_id": "dd36ffbbd3774c16a0c0fdb31ea0009c",
       "version_major": 2,
       "version_minor": 0
      },
      "text/plain": [
       "GridSearch Progress:   0%|          | 0/200 [00:00<?, ?it/s]"
      ]
     },
     "metadata": {},
     "output_type": "display_data"
    },
    {
     "data": {
      "text/plain": [
       "[\"Best Parameters: {'model__max_depth': 3, 'model__min_samples_leaf': 1, 'model__min_samples_split': 2}\",\n",
       " 'Train Metric: 26.72%',\n",
       " 'Val Metric: 21.09%',\n",
       " 'Runtime (s): 1266.25',\n",
       "     Train Metric  Val Metric\n",
       " f1     26.717028   21.089146,\n",
       " Pipeline(steps=[('resampling', SMOTE(random_state=1)),\n",
       "                 ('model', DecisionTreeClassifier(max_depth=3, random_state=1))])]"
      ]
     },
     "execution_count": 39,
     "metadata": {},
     "output_type": "execute_result"
    }
   ],
   "source": [
    "# DecisionTreeClassifier\n",
    "param_grid = {\n",
    "    'max_depth': range(1,11),\n",
    "    'min_samples_leaf': [1,2,3,5],\n",
    "    'min_samples_split': [2,4,6,8,10]\n",
    "}\n",
    "\n",
    "dt = hypertune_ml(X_trainval, y_trainval,\n",
    "                   DecisionTreeClassifier(random_state=1), param_grid, 'f1', cv=StratifiedKFold(n_splits=5))\n",
    "dt"
   ]
  },
  {
   "cell_type": "code",
   "execution_count": null,
   "metadata": {},
   "outputs": [],
   "source": [
    "# DecisionTreeClassifier\n",
    "param_grid = {\n",
    "    'max_depth': range(1,11),\n",
    "    'min_samples_leaf': [1,2,3,5],\n",
    "    'min_samples_split': [2,4,6,8,10]\n",
    "}\n",
    "\n",
    "dt_adasyn = hypertune_ml(X_trainval, y_trainval,\n",
    "                   DecisionTreeClassifier(random_state=1), param_grid, 'f1', cv=StratifiedKFold(n_splits=5), resampling=ADASYN(random_state=1))\n",
    "dt_adasyn"
   ]
  },
  {
   "cell_type": "code",
   "execution_count": 40,
   "metadata": {},
   "outputs": [
    {
     "data": {
      "application/vnd.jupyter.widget-view+json": {
       "model_id": "c01da99613df42cf97d043017d12c4fa",
       "version_major": 2,
       "version_minor": 0
      },
      "text/plain": [
       "GridSearch Progress:   0%|          | 0/96 [00:00<?, ?it/s]"
      ]
     },
     "metadata": {},
     "output_type": "display_data"
    },
    {
     "data": {
      "text/plain": [
       "[\"Best Parameters: {'model__max_depth': 6, 'model__min_samples_split': 10, 'model__n_estimators': 100}\",\n",
       " 'Train Metric: 27.08%',\n",
       " 'Val Metric: 21.49%',\n",
       " 'Runtime (s): 5525.84',\n",
       "     Train Metric  Val Metric\n",
       " f1     27.077925   21.485047,\n",
       " Pipeline(steps=[('resampling', SMOTE(random_state=1)),\n",
       "                 ('model',\n",
       "                  RandomForestClassifier(max_depth=6, min_samples_split=10,\n",
       "                                         random_state=1))])]"
      ]
     },
     "execution_count": 40,
     "metadata": {},
     "output_type": "execute_result"
    }
   ],
   "source": [
    "# RandomForestClassifier\n",
    "param_grid = {\n",
    "    'n_estimators': [100, 150, 200],\n",
    "    'max_depth': range(2,10),\n",
    "    'min_samples_split': [4,6,8,10]\n",
    "}\n",
    "\n",
    "rf = hypertune_ml(X_trainval, y_trainval,\n",
    "                   RandomForestClassifier(random_state=1), param_grid, 'f1', cv=StratifiedKFold(n_splits=5))\n",
    "rf"
   ]
  },
  {
   "cell_type": "code",
   "execution_count": 41,
   "metadata": {},
   "outputs": [
    {
     "data": {
      "application/vnd.jupyter.widget-view+json": {
       "model_id": "cead9baa6e524c40837ca0980cb14038",
       "version_major": 2,
       "version_minor": 0
      },
      "text/plain": [
       "GridSearch Progress:   0%|          | 0/72 [00:00<?, ?it/s]"
      ]
     },
     "metadata": {},
     "output_type": "display_data"
    },
    {
     "data": {
      "text/plain": [
       "[\"Best Parameters: {'model__learning_rate': 0.01, 'model__max_depth': 2, 'model__max_features': 'sqrt', 'model__min_samples_split': 2, 'model__n_estimators': 150}\",\n",
       " 'Train Metric: 32.37%',\n",
       " 'Val Metric: 21.76%',\n",
       " 'Runtime (s): 5103.42',\n",
       "     Train Metric  Val Metric\n",
       " f1     32.367006   21.756032,\n",
       " Pipeline(steps=[('resampling', SMOTE(random_state=1)),\n",
       "                 ('model',\n",
       "                  GradientBoostingClassifier(learning_rate=0.01, max_depth=2,\n",
       "                                             max_features='sqrt',\n",
       "                                             n_estimators=150,\n",
       "                                             random_state=1))])]"
      ]
     },
     "execution_count": 41,
     "metadata": {},
     "output_type": "execute_result"
    }
   ],
   "source": [
    "# GradientBoostingClassifier\n",
    "param_grid = {\n",
    "    'n_estimators': [100, 150, 200],\n",
    "    'learning_rate': [0.01],\n",
    "    'max_depth': range(2, 10),\n",
    "    'max_features':['sqrt'],\n",
    "    'min_samples_split': [2,5,10]\n",
    "}\n",
    "\n",
    "gb = hypertune_ml(X_trainval, y_trainval,\n",
    "                   GradientBoostingClassifier(random_state=1), param_grid, 'f1', cv=StratifiedKFold(n_splits=5))\n",
    "gb"
   ]
  },
  {
   "cell_type": "code",
   "execution_count": 42,
   "metadata": {},
   "outputs": [
    {
     "data": {
      "application/vnd.jupyter.widget-view+json": {
       "model_id": "871172035a2143aea5079fdfde623ff2",
       "version_major": 2,
       "version_minor": 0
      },
      "text/plain": [
       "GridSearch Progress:   0%|          | 0/35 [00:00<?, ?it/s]"
      ]
     },
     "metadata": {},
     "output_type": "display_data"
    },
    {
     "data": {
      "text/plain": [
       "[\"Best Parameters: {'model__base_estimator__max_depth': 2, 'model__base_estimator__min_samples_split': 2, 'model__learning_rate': 0.01, 'model__n_estimators': 100}\",\n",
       " 'Train Metric: 52.16%',\n",
       " 'Val Metric: 22.38%',\n",
       " 'Runtime (s): 2725.00',\n",
       "     Train Metric  Val Metric\n",
       " f1     52.157197    22.38229,\n",
       " Pipeline(steps=[('resampling', SMOTE(random_state=1)),\n",
       "                 ('model',\n",
       "                  AdaBoostClassifier(base_estimator=DecisionTreeClassifier(max_depth=2,\n",
       "                                                                           random_state=1),\n",
       "                                     learning_rate=0.01, n_estimators=100,\n",
       "                                     random_state=1))])]"
      ]
     },
     "execution_count": 42,
     "metadata": {},
     "output_type": "execute_result"
    }
   ],
   "source": [
    "# AdaBoostClassifier\n",
    "param_grid = {\n",
    "    'n_estimators': [100],\n",
    "    'learning_rate': [0.01],\n",
    "    'base_estimator__max_depth': range(2,9),\n",
    "    'base_estimator__min_samples_split': [2,4,6,8,10]\n",
    "}\n",
    "\n",
    "ab = hypertune_ml(X_trainval, y_trainval,\n",
    "                   AdaBoostClassifier(base_estimator=DecisionTreeClassifier(random_state=1), random_state=1),\n",
    "                   param_grid, 'f1', cv=StratifiedKFold(n_splits=5))\n",
    "ab"
   ]
  },
  {
   "cell_type": "code",
   "execution_count": 43,
   "metadata": {},
   "outputs": [
    {
     "data": {
      "application/vnd.jupyter.widget-view+json": {
       "model_id": "933c3e4c39fb4f44951fa10a70b669fa",
       "version_major": 2,
       "version_minor": 0
      },
      "text/plain": [
       "GridSearch Progress:   0%|          | 0/100 [00:00<?, ?it/s]"
      ]
     },
     "metadata": {},
     "output_type": "display_data"
    },
    {
     "data": {
      "text/plain": [
       "[\"Best Parameters: {'model__max_depth': 6, 'model__min_samples_split': 10, 'model__n_estimators': 150}\",\n",
       " 'Train Metric: 24.26%',\n",
       " 'Val Metric: 21.37%',\n",
       " 'Runtime (s): 2511.32',\n",
       "     Train Metric  Val Metric\n",
       " f1      24.26026   21.371957,\n",
       " Pipeline(steps=[('resampling', SMOTE(random_state=1)),\n",
       "                 ('model',\n",
       "                  ExtraTreesClassifier(max_depth=6, min_samples_split=10,\n",
       "                                       n_estimators=150, random_state=1))])]"
      ]
     },
     "execution_count": 43,
     "metadata": {},
     "output_type": "execute_result"
    }
   ],
   "source": [
    "# ExtraTreesClassifier\n",
    "param_grid = {\n",
    "    'n_estimators':  [100, 150],\n",
    "    'max_depth': range(1,11),\n",
    "    'min_samples_split':[2,4,6,8,10]\n",
    "}\n",
    "\n",
    "et = hypertune_ml(X_trainval, y_trainval, ExtraTreesClassifier(random_state=1),\n",
    "                  param_grid, 'f1', cv=StratifiedKFold(n_splits=5))\n",
    "et"
   ]
  },
  {
   "cell_type": "code",
   "execution_count": 38,
   "metadata": {},
   "outputs": [
    {
     "data": {
      "application/vnd.jupyter.widget-view+json": {
       "model_id": "9fc8a70ad3174cea9e92f595be8e9c2e",
       "version_major": 2,
       "version_minor": 0
      },
      "text/plain": [
       "GridSearch Progress:   0%|          | 0/162 [00:00<?, ?it/s]"
      ]
     },
     "metadata": {},
     "output_type": "display_data"
    },
    {
     "data": {
      "text/plain": [
       "[\"Best Parameters: {'model__learning_rate': 0.01, 'model__max_depth': 2, 'model__max_leaves': 5, 'model__min_child_weight': 1, 'model__n_estimators': 150}\",\n",
       " 'Train Metric: 23.53%',\n",
       " 'Val Metric: 21.82%',\n",
       " 'Runtime (s): 5764.68',\n",
       "     Train Metric  Val Metric\n",
       " f1      23.53441   21.819234,\n",
       " Pipeline(steps=[('resampling', SMOTE(random_state=1)),\n",
       "                 ('model',\n",
       "                  XGBClassifier(base_score=None, booster=None, callbacks=None,\n",
       "                                colsample_bylevel=None, colsample_bynode=None,\n",
       "                                colsample_bytree=None, device=None,\n",
       "                                early_stopping_rounds=None,\n",
       "                                enable_categorical=False, eval_metric=None,\n",
       "                                feature_types=None, gamma=None, grow_policy=None,\n",
       "                                importance_type=None,\n",
       "                                interaction_constraints=None, learning_rate=0.01,\n",
       "                                max_bin=None, max_cat_threshold=None,\n",
       "                                max_cat_to_onehot=None, max_delta_step=None,\n",
       "                                max_depth=2, max_leaves=5, min_child_weight=1,\n",
       "                                missing=nan, monotone_constraints=None,\n",
       "                                multi_strategy=None, n_estimators=150,\n",
       "                                n_jobs=None, num_parallel_tree=None,\n",
       "                                random_state=1, ...))])]"
      ]
     },
     "execution_count": 38,
     "metadata": {},
     "output_type": "execute_result"
    }
   ],
   "source": [
    "# XGBlassifier\n",
    "param_grid = {\n",
    "    'n_estimators':  [100, 150, 200],\n",
    "    'learning_rate': [0.01],\n",
    "    'max_depth': range(2,8),\n",
    "    'min_child_weight': [1, 2, 3],\n",
    "    'max_leaves': [5, 10, 20]\n",
    "}\n",
    "\n",
    "xgb = hypertune_ml(X_trainval, y_trainval, XGBClassifier(random_state=1),\n",
    "                  param_grid, 'f1', cv=StratifiedKFold(n_splits=5))\n",
    "xgb\n"
   ]
  },
  {
   "cell_type": "code",
   "execution_count": 40,
   "metadata": {},
   "outputs": [],
   "source": [
    "# save models\n",
    "# pickle.dump(lr[-1], open('lr_model.pkl', 'wb'))\n",
    "# pickle.dump(dt[-1], open('dt_model.pkl', 'wb'))\n",
    "# pickle.dump(rf[-1], open('rf_model.pkl', 'wb'))\n",
    "# pickle.dump(gb[-1], open('gb_model.pkl', 'wb'))\n",
    "# pickle.dump(ab[-1], open('ab_model.pkl', 'wb'))\n",
    "# pickle.dump(et[-1], open('et_model.pkl', 'wb'))\n",
    "#pickle.dump(xgb[-1], open('xgb_model.pkl', 'wb'))"
   ]
  },
  {
   "cell_type": "code",
   "execution_count": 97,
   "metadata": {},
   "outputs": [],
   "source": [
    "model_list = {'Logistic Regression': 'lr_model.pkl', 'Decision Tree Classifier': 'dt_model.pkl', 'Random Forest Classifier': 'rf_model.pkl', \n",
    "              'Gradient Boosting Classifier': 'gb_model.pkl', 'AdaBoost Classifier': 'ab_model.pkl', 'Extra Trees Classifier': 'et_model.pkl',\n",
    "              'XGBoost Classifier':'xgb_model.pkl'}\n",
    "\n",
    "tuned_models = {}\n",
    "\n",
    "for model, file_name in model_list.items():\n",
    "    with open(file_name, 'rb') as file:\n",
    "        loaded_model = pickle.load(file)\n",
    "    tuned_models[model] = loaded_model"
   ]
  },
  {
   "cell_type": "code",
   "execution_count": 99,
   "metadata": {},
   "outputs": [
    {
     "data": {
      "application/vnd.jupyter.widget-view+json": {
       "model_id": "c29fe6e5f3ec44b591bce5d276bb3e53",
       "version_major": 2,
       "version_minor": 0
      },
      "text/plain": [
       "  0%|          | 0/7 [00:00<?, ?it/s]"
      ]
     },
     "metadata": {},
     "output_type": "display_data"
    },
    {
     "data": {
      "application/vnd.jupyter.widget-view+json": {
       "model_id": "5014f79c26c845bd9059cc6725b813ca",
       "version_major": 2,
       "version_minor": 0
      },
      "text/plain": [
       "0it [00:00, ?it/s]"
      ]
     },
     "metadata": {},
     "output_type": "display_data"
    },
    {
     "data": {
      "application/vnd.jupyter.widget-view+json": {
       "model_id": "3cf36cde86874327809acd9af855c2c7",
       "version_major": 2,
       "version_minor": 0
      },
      "text/plain": [
       "0it [00:00, ?it/s]"
      ]
     },
     "metadata": {},
     "output_type": "display_data"
    },
    {
     "data": {
      "application/vnd.jupyter.widget-view+json": {
       "model_id": "aa8695c02fd74c9faa7a7d484c67f099",
       "version_major": 2,
       "version_minor": 0
      },
      "text/plain": [
       "0it [00:00, ?it/s]"
      ]
     },
     "metadata": {},
     "output_type": "display_data"
    },
    {
     "data": {
      "application/vnd.jupyter.widget-view+json": {
       "model_id": "8ac351a8e98148c28d0d9f4eb1fb8d0e",
       "version_major": 2,
       "version_minor": 0
      },
      "text/plain": [
       "0it [00:00, ?it/s]"
      ]
     },
     "metadata": {},
     "output_type": "display_data"
    },
    {
     "data": {
      "application/vnd.jupyter.widget-view+json": {
       "model_id": "03de07908aeb48ba8e644ac3122581c0",
       "version_major": 2,
       "version_minor": 0
      },
      "text/plain": [
       "0it [00:00, ?it/s]"
      ]
     },
     "metadata": {},
     "output_type": "display_data"
    },
    {
     "data": {
      "application/vnd.jupyter.widget-view+json": {
       "model_id": "2da916bf84c24c37999f1a57b589bcfc",
       "version_major": 2,
       "version_minor": 0
      },
      "text/plain": [
       "0it [00:00, ?it/s]"
      ]
     },
     "metadata": {},
     "output_type": "display_data"
    },
    {
     "data": {
      "application/vnd.jupyter.widget-view+json": {
       "model_id": "23df60b218524ca786fc3c066f74c54f",
       "version_major": 2,
       "version_minor": 0
      },
      "text/plain": [
       "0it [00:00, ?it/s]"
      ]
     },
     "metadata": {},
     "output_type": "display_data"
    },
    {
     "data": {
      "text/html": [
       "<div>\n",
       "<style scoped>\n",
       "    .dataframe tbody tr th:only-of-type {\n",
       "        vertical-align: middle;\n",
       "    }\n",
       "\n",
       "    .dataframe tbody tr th {\n",
       "        vertical-align: top;\n",
       "    }\n",
       "\n",
       "    .dataframe thead th {\n",
       "        text-align: right;\n",
       "    }\n",
       "</style>\n",
       "<table border=\"1\" class=\"dataframe\">\n",
       "  <thead>\n",
       "    <tr style=\"text-align: right;\">\n",
       "      <th></th>\n",
       "      <th>Train Accuracy</th>\n",
       "      <th>Val Accuracy</th>\n",
       "      <th>Train Precision</th>\n",
       "      <th>Val Precision</th>\n",
       "      <th>Train Recall</th>\n",
       "      <th>Val Recall</th>\n",
       "      <th>Train F1-Score</th>\n",
       "      <th>Val F1-Score</th>\n",
       "      <th>Runtime (s)</th>\n",
       "    </tr>\n",
       "  </thead>\n",
       "  <tbody>\n",
       "    <tr>\n",
       "      <th>Logistic Regression</th>\n",
       "      <td>74.00%</td>\n",
       "      <td>72.32%</td>\n",
       "      <td>13.84%</td>\n",
       "      <td>13.14%</td>\n",
       "      <td>83.22%</td>\n",
       "      <td>81.58%</td>\n",
       "      <td>23.73%</td>\n",
       "      <td>22.63%</td>\n",
       "      <td>0.03</td>\n",
       "    </tr>\n",
       "    <tr>\n",
       "      <th>Decision Tree Classifier</th>\n",
       "      <td>67.60%</td>\n",
       "      <td>65.27%</td>\n",
       "      <td>11.78%</td>\n",
       "      <td>10.96%</td>\n",
       "      <td>87.25%</td>\n",
       "      <td>84.21%</td>\n",
       "      <td>20.75%</td>\n",
       "      <td>19.39%</td>\n",
       "      <td>0.02</td>\n",
       "    </tr>\n",
       "    <tr>\n",
       "      <th>Random Forest Classifier</th>\n",
       "      <td>77.00%</td>\n",
       "      <td>75.72%</td>\n",
       "      <td>15.76%</td>\n",
       "      <td>15.42%</td>\n",
       "      <td>85.91%</td>\n",
       "      <td>86.84%</td>\n",
       "      <td>26.64%</td>\n",
       "      <td>26.19%</td>\n",
       "      <td>0.49</td>\n",
       "    </tr>\n",
       "    <tr>\n",
       "      <th>Gradient Boosting Classifier</th>\n",
       "      <td>71.94%</td>\n",
       "      <td>71.93%</td>\n",
       "      <td>12.93%</td>\n",
       "      <td>13.28%</td>\n",
       "      <td>83.22%</td>\n",
       "      <td>84.21%</td>\n",
       "      <td>22.38%</td>\n",
       "      <td>22.94%</td>\n",
       "      <td>0.40</td>\n",
       "    </tr>\n",
       "    <tr>\n",
       "      <th>AdaBoost Classifier</th>\n",
       "      <td>72.56%</td>\n",
       "      <td>72.32%</td>\n",
       "      <td>13.19%</td>\n",
       "      <td>13.75%</td>\n",
       "      <td>83.22%</td>\n",
       "      <td>86.84%</td>\n",
       "      <td>22.77%</td>\n",
       "      <td>23.74%</td>\n",
       "      <td>1.17</td>\n",
       "    </tr>\n",
       "    <tr>\n",
       "      <th>Extra Trees Classifier</th>\n",
       "      <td>75.07%</td>\n",
       "      <td>74.02%</td>\n",
       "      <td>14.45%</td>\n",
       "      <td>13.57%</td>\n",
       "      <td>83.89%</td>\n",
       "      <td>78.95%</td>\n",
       "      <td>24.65%</td>\n",
       "      <td>23.17%</td>\n",
       "      <td>0.31</td>\n",
       "    </tr>\n",
       "    <tr>\n",
       "      <th>XGBoost Classifier</th>\n",
       "      <td>70.90%</td>\n",
       "      <td>70.50%</td>\n",
       "      <td>12.81%</td>\n",
       "      <td>12.99%</td>\n",
       "      <td>85.91%</td>\n",
       "      <td>86.84%</td>\n",
       "      <td>22.30%</td>\n",
       "      <td>22.60%</td>\n",
       "      <td>0.07</td>\n",
       "    </tr>\n",
       "  </tbody>\n",
       "</table>\n",
       "</div>"
      ],
      "text/plain": [
       "                             Train Accuracy Val Accuracy Train Precision  \\\n",
       "Logistic Regression                  74.00%       72.32%          13.84%   \n",
       "Decision Tree Classifier             67.60%       65.27%          11.78%   \n",
       "Random Forest Classifier             77.00%       75.72%          15.76%   \n",
       "Gradient Boosting Classifier         71.94%       71.93%          12.93%   \n",
       "AdaBoost Classifier                  72.56%       72.32%          13.19%   \n",
       "Extra Trees Classifier               75.07%       74.02%          14.45%   \n",
       "XGBoost Classifier                   70.90%       70.50%          12.81%   \n",
       "\n",
       "                             Val Precision Train Recall Val Recall  \\\n",
       "Logistic Regression                 13.14%       83.22%     81.58%   \n",
       "Decision Tree Classifier            10.96%       87.25%     84.21%   \n",
       "Random Forest Classifier            15.42%       85.91%     86.84%   \n",
       "Gradient Boosting Classifier        13.28%       83.22%     84.21%   \n",
       "AdaBoost Classifier                 13.75%       83.22%     86.84%   \n",
       "Extra Trees Classifier              13.57%       83.89%     78.95%   \n",
       "XGBoost Classifier                  12.99%       85.91%     86.84%   \n",
       "\n",
       "                             Train F1-Score Val F1-Score Runtime (s)  \n",
       "Logistic Regression                  23.73%       22.63%        0.03  \n",
       "Decision Tree Classifier             20.75%       19.39%        0.02  \n",
       "Random Forest Classifier             26.64%       26.19%        0.49  \n",
       "Gradient Boosting Classifier         22.38%       22.94%        0.40  \n",
       "AdaBoost Classifier                  22.77%       23.74%        1.17  \n",
       "Extra Trees Classifier               24.65%       23.17%        0.31  \n",
       "XGBoost Classifier                   22.30%       22.60%        0.07  "
      ]
     },
     "execution_count": 99,
     "metadata": {},
     "output_type": "execute_result"
    }
   ],
   "source": [
    "tuned_model_results = auto_ml(X_trainval, y_trainval, tuned_models,\n",
    "                      cv=StratifiedKFold(n_splits=5))\n",
    "tuned_model_results[1]"
   ]
  },
  {
   "cell_type": "code",
   "execution_count": 125,
   "metadata": {},
   "outputs": [
    {
     "data": {
      "text/html": [
       "<div>\n",
       "<style scoped>\n",
       "    .dataframe tbody tr th:only-of-type {\n",
       "        vertical-align: middle;\n",
       "    }\n",
       "\n",
       "    .dataframe tbody tr th {\n",
       "        vertical-align: top;\n",
       "    }\n",
       "\n",
       "    .dataframe thead th {\n",
       "        text-align: right;\n",
       "    }\n",
       "</style>\n",
       "<table border=\"1\" class=\"dataframe\">\n",
       "  <thead>\n",
       "    <tr style=\"text-align: right;\">\n",
       "      <th></th>\n",
       "      <th>Hypertuned Model + SMOTE</th>\n",
       "      <th>Train F1-Score (%)</th>\n",
       "      <th>Val F1-Score (%)</th>\n",
       "      <th>Difference</th>\n",
       "    </tr>\n",
       "  </thead>\n",
       "  <tbody>\n",
       "    <tr>\n",
       "      <th>2</th>\n",
       "      <td>Random Forest Classifier</td>\n",
       "      <td>26.64</td>\n",
       "      <td>26.19</td>\n",
       "      <td>0.45</td>\n",
       "    </tr>\n",
       "    <tr>\n",
       "      <th>4</th>\n",
       "      <td>AdaBoost Classifier</td>\n",
       "      <td>22.77</td>\n",
       "      <td>23.74</td>\n",
       "      <td>0.97</td>\n",
       "    </tr>\n",
       "    <tr>\n",
       "      <th>5</th>\n",
       "      <td>Extra Trees Classifier</td>\n",
       "      <td>24.65</td>\n",
       "      <td>23.17</td>\n",
       "      <td>1.48</td>\n",
       "    </tr>\n",
       "    <tr>\n",
       "      <th>3</th>\n",
       "      <td>Gradient Boosting Classifier</td>\n",
       "      <td>22.38</td>\n",
       "      <td>22.94</td>\n",
       "      <td>0.56</td>\n",
       "    </tr>\n",
       "    <tr>\n",
       "      <th>0</th>\n",
       "      <td>Logistic Regression</td>\n",
       "      <td>23.73</td>\n",
       "      <td>22.63</td>\n",
       "      <td>1.10</td>\n",
       "    </tr>\n",
       "    <tr>\n",
       "      <th>6</th>\n",
       "      <td>XGBoost Classifier</td>\n",
       "      <td>22.30</td>\n",
       "      <td>22.60</td>\n",
       "      <td>0.30</td>\n",
       "    </tr>\n",
       "    <tr>\n",
       "      <th>1</th>\n",
       "      <td>Decision Tree Classifier</td>\n",
       "      <td>20.75</td>\n",
       "      <td>19.39</td>\n",
       "      <td>1.36</td>\n",
       "    </tr>\n",
       "  </tbody>\n",
       "</table>\n",
       "</div>"
      ],
      "text/plain": [
       "       Hypertuned Model + SMOTE  Train F1-Score (%)  Val F1-Score (%)  \\\n",
       "2      Random Forest Classifier               26.64             26.19   \n",
       "4           AdaBoost Classifier               22.77             23.74   \n",
       "5        Extra Trees Classifier               24.65             23.17   \n",
       "3  Gradient Boosting Classifier               22.38             22.94   \n",
       "0           Logistic Regression               23.73             22.63   \n",
       "6            XGBoost Classifier               22.30             22.60   \n",
       "1      Decision Tree Classifier               20.75             19.39   \n",
       "\n",
       "   Difference  \n",
       "2        0.45  \n",
       "4        0.97  \n",
       "5        1.48  \n",
       "3        0.56  \n",
       "0        1.10  \n",
       "6        0.30  \n",
       "1        1.36  "
      ]
     },
     "execution_count": 125,
     "metadata": {},
     "output_type": "execute_result"
    }
   ],
   "source": [
    "scores = tuned_model_results[1][['Train F1-Score', 'Val F1-Score']]\n",
    "\n",
    "# convert scores into floats\n",
    "scores = scores.apply(lambda col: col.str.rstrip('%').astype(float), axis=0)\n",
    "scores = scores.reset_index()\n",
    "scores.columns=['Hypertuned Model + SMOTE','Train F1-Score (%)', 'Val F1-Score (%)']\n",
    "\n",
    "scores['Difference'] = abs(scores['Train F1-Score (%)'] - scores['Val F1-Score (%)'])\n",
    "scores.sort_values('Val F1-Score (%)', ascending=False)"
   ]
  },
  {
   "cell_type": "markdown",
   "metadata": {},
   "source": [
    "### Best Model: Random Forest Classifier"
   ]
  },
  {
   "cell_type": "code",
   "execution_count": 31,
   "metadata": {},
   "outputs": [],
   "source": [
    "with open('rf_model.pkl', 'rb') as file:\n",
    "    best_model = pickle.load(file)"
   ]
  },
  {
   "cell_type": "code",
   "execution_count": 32,
   "metadata": {},
   "outputs": [
    {
     "data": {
      "text/html": [
       "<style>#sk-container-id-1 {color: black;}#sk-container-id-1 pre{padding: 0;}#sk-container-id-1 div.sk-toggleable {background-color: white;}#sk-container-id-1 label.sk-toggleable__label {cursor: pointer;display: block;width: 100%;margin-bottom: 0;padding: 0.3em;box-sizing: border-box;text-align: center;}#sk-container-id-1 label.sk-toggleable__label-arrow:before {content: \"▸\";float: left;margin-right: 0.25em;color: #696969;}#sk-container-id-1 label.sk-toggleable__label-arrow:hover:before {color: black;}#sk-container-id-1 div.sk-estimator:hover label.sk-toggleable__label-arrow:before {color: black;}#sk-container-id-1 div.sk-toggleable__content {max-height: 0;max-width: 0;overflow: hidden;text-align: left;background-color: #f0f8ff;}#sk-container-id-1 div.sk-toggleable__content pre {margin: 0.2em;color: black;border-radius: 0.25em;background-color: #f0f8ff;}#sk-container-id-1 input.sk-toggleable__control:checked~div.sk-toggleable__content {max-height: 200px;max-width: 100%;overflow: auto;}#sk-container-id-1 input.sk-toggleable__control:checked~label.sk-toggleable__label-arrow:before {content: \"▾\";}#sk-container-id-1 div.sk-estimator input.sk-toggleable__control:checked~label.sk-toggleable__label {background-color: #d4ebff;}#sk-container-id-1 div.sk-label input.sk-toggleable__control:checked~label.sk-toggleable__label {background-color: #d4ebff;}#sk-container-id-1 input.sk-hidden--visually {border: 0;clip: rect(1px 1px 1px 1px);clip: rect(1px, 1px, 1px, 1px);height: 1px;margin: -1px;overflow: hidden;padding: 0;position: absolute;width: 1px;}#sk-container-id-1 div.sk-estimator {font-family: monospace;background-color: #f0f8ff;border: 1px dotted black;border-radius: 0.25em;box-sizing: border-box;margin-bottom: 0.5em;}#sk-container-id-1 div.sk-estimator:hover {background-color: #d4ebff;}#sk-container-id-1 div.sk-parallel-item::after {content: \"\";width: 100%;border-bottom: 1px solid gray;flex-grow: 1;}#sk-container-id-1 div.sk-label:hover label.sk-toggleable__label {background-color: #d4ebff;}#sk-container-id-1 div.sk-serial::before {content: \"\";position: absolute;border-left: 1px solid gray;box-sizing: border-box;top: 0;bottom: 0;left: 50%;z-index: 0;}#sk-container-id-1 div.sk-serial {display: flex;flex-direction: column;align-items: center;background-color: white;padding-right: 0.2em;padding-left: 0.2em;position: relative;}#sk-container-id-1 div.sk-item {position: relative;z-index: 1;}#sk-container-id-1 div.sk-parallel {display: flex;align-items: stretch;justify-content: center;background-color: white;position: relative;}#sk-container-id-1 div.sk-item::before, #sk-container-id-1 div.sk-parallel-item::before {content: \"\";position: absolute;border-left: 1px solid gray;box-sizing: border-box;top: 0;bottom: 0;left: 50%;z-index: -1;}#sk-container-id-1 div.sk-parallel-item {display: flex;flex-direction: column;z-index: 1;position: relative;background-color: white;}#sk-container-id-1 div.sk-parallel-item:first-child::after {align-self: flex-end;width: 50%;}#sk-container-id-1 div.sk-parallel-item:last-child::after {align-self: flex-start;width: 50%;}#sk-container-id-1 div.sk-parallel-item:only-child::after {width: 0;}#sk-container-id-1 div.sk-dashed-wrapped {border: 1px dashed gray;margin: 0 0.4em 0.5em 0.4em;box-sizing: border-box;padding-bottom: 0.4em;background-color: white;}#sk-container-id-1 div.sk-label label {font-family: monospace;font-weight: bold;display: inline-block;line-height: 1.2em;}#sk-container-id-1 div.sk-label-container {text-align: center;}#sk-container-id-1 div.sk-container {/* jupyter's `normalize.less` sets `[hidden] { display: none; }` but bootstrap.min.css set `[hidden] { display: none !important; }` so we also need the `!important` here to be able to override the default hidden behavior on the sphinx rendered scikit-learn.org. See: https://github.com/scikit-learn/scikit-learn/issues/21755 */display: inline-block !important;position: relative;}#sk-container-id-1 div.sk-text-repr-fallback {display: none;}</style><div id=\"sk-container-id-1\" class=\"sk-top-container\"><div class=\"sk-text-repr-fallback\"><pre>Pipeline(steps=[(&#x27;resampling&#x27;, SMOTE(random_state=1)),\n",
       "                (&#x27;model&#x27;,\n",
       "                 RandomForestClassifier(max_depth=6, min_samples_split=10,\n",
       "                                        random_state=1))])</pre><b>In a Jupyter environment, please rerun this cell to show the HTML representation or trust the notebook. <br />On GitHub, the HTML representation is unable to render, please try loading this page with nbviewer.org.</b></div><div class=\"sk-container\" hidden><div class=\"sk-item sk-dashed-wrapped\"><div class=\"sk-label-container\"><div class=\"sk-label sk-toggleable\"><input class=\"sk-toggleable__control sk-hidden--visually\" id=\"sk-estimator-id-1\" type=\"checkbox\" ><label for=\"sk-estimator-id-1\" class=\"sk-toggleable__label sk-toggleable__label-arrow\">Pipeline</label><div class=\"sk-toggleable__content\"><pre>Pipeline(steps=[(&#x27;resampling&#x27;, SMOTE(random_state=1)),\n",
       "                (&#x27;model&#x27;,\n",
       "                 RandomForestClassifier(max_depth=6, min_samples_split=10,\n",
       "                                        random_state=1))])</pre></div></div></div><div class=\"sk-serial\"><div class=\"sk-item\"><div class=\"sk-estimator sk-toggleable\"><input class=\"sk-toggleable__control sk-hidden--visually\" id=\"sk-estimator-id-2\" type=\"checkbox\" ><label for=\"sk-estimator-id-2\" class=\"sk-toggleable__label sk-toggleable__label-arrow\">SMOTE</label><div class=\"sk-toggleable__content\"><pre>SMOTE(random_state=1)</pre></div></div></div><div class=\"sk-item\"><div class=\"sk-estimator sk-toggleable\"><input class=\"sk-toggleable__control sk-hidden--visually\" id=\"sk-estimator-id-3\" type=\"checkbox\" ><label for=\"sk-estimator-id-3\" class=\"sk-toggleable__label sk-toggleable__label-arrow\">RandomForestClassifier</label><div class=\"sk-toggleable__content\"><pre>RandomForestClassifier(max_depth=6, min_samples_split=10, random_state=1)</pre></div></div></div></div></div></div></div>"
      ],
      "text/plain": [
       "Pipeline(steps=[('resampling', SMOTE(random_state=1)),\n",
       "                ('model',\n",
       "                 RandomForestClassifier(max_depth=6, min_samples_split=10,\n",
       "                                        random_state=1))])"
      ]
     },
     "execution_count": 32,
     "metadata": {},
     "output_type": "execute_result"
    }
   ],
   "source": [
    "best_model"
   ]
  },
  {
   "cell_type": "code",
   "execution_count": 33,
   "metadata": {},
   "outputs": [],
   "source": [
    "y_pred = best_model.predict(X_holdout)\n",
    "y_proba = best_model.predict_proba(X_holdout)"
   ]
  },
  {
   "cell_type": "code",
   "execution_count": 34,
   "metadata": {},
   "outputs": [
    {
     "data": {
      "text/plain": [
       "array([[0.37384625, 0.62615375],\n",
       "       [0.29477084, 0.70522916],\n",
       "       [0.3580252 , 0.6419748 ],\n",
       "       ...,\n",
       "       [0.69244282, 0.30755718],\n",
       "       [0.9461185 , 0.0538815 ],\n",
       "       [0.2716179 , 0.7283821 ]])"
      ]
     },
     "execution_count": 34,
     "metadata": {},
     "output_type": "execute_result"
    }
   ],
   "source": [
    "y_proba"
   ]
  },
  {
   "cell_type": "code",
   "execution_count": 35,
   "metadata": {},
   "outputs": [
    {
     "data": {
      "text/plain": [
       "array([1., 1., 1., ..., 0., 0., 1.])"
      ]
     },
     "execution_count": 35,
     "metadata": {},
     "output_type": "execute_result"
    }
   ],
   "source": [
    "y_pred"
   ]
  },
  {
   "cell_type": "code",
   "execution_count": 36,
   "metadata": {},
   "outputs": [
    {
     "data": {
      "text/plain": [
       "0.19954648526077096"
      ]
     },
     "execution_count": 36,
     "metadata": {},
     "output_type": "execute_result"
    }
   ],
   "source": [
    "holdout_score = f1_score(y_holdout, y_pred)\n",
    "holdout_score"
   ]
  },
  {
   "cell_type": "code",
   "execution_count": 37,
   "metadata": {},
   "outputs": [],
   "source": [
    "base_cm = confusion_matrix(y_holdout, y_holdout)"
   ]
  },
  {
   "cell_type": "code",
   "execution_count": 38,
   "metadata": {},
   "outputs": [
    {
     "data": {
      "text/plain": [
       "(array([[881, 335],\n",
       "        [ 18,  44]], dtype=int64),\n",
       " array([[1216,    0],\n",
       "        [   0,   62]], dtype=int64))"
      ]
     },
     "execution_count": 38,
     "metadata": {},
     "output_type": "execute_result"
    }
   ],
   "source": [
    "holdout_cm = confusion_matrix(y_holdout, y_pred)\n",
    "holdout_cm, base_cm"
   ]
  },
  {
   "cell_type": "code",
   "execution_count": 42,
   "metadata": {},
   "outputs": [
    {
     "data": {
      "image/png": "[encoded data removed]",
      "text/plain": [
       "<Figure size 1152x576 with 2 Axes>"
      ]
     },
     "metadata": {
      "needs_background": "light"
     },
     "output_type": "display_data"
    }
   ],
   "source": [
    "fig, ax = plt.subplots(1, 2, figsize=(16,8))\n",
    "\n",
    "sns.heatmap(holdout_cm, annot=True, fmt='d', cmap='Blues', cbar=False,\n",
    "            xticklabels=['Class 0', 'Class 1'],\n",
    "            yticklabels=['Class 0', 'Class 1'],\n",
    "            ax=ax[1])\n",
    "ax[1].set_xlabel('Predicted')\n",
    "ax[1].set_ylabel('True')\n",
    "ax[1].set_title('Final Model Matrix')\n",
    "\n",
    "sns.heatmap(base_cm, annot=True, fmt='d', cmap='Blues', cbar=False,\n",
    "            xticklabels=['Class 0', 'Class 1'],\n",
    "            yticklabels=['Class 0', 'Class 1'],\n",
    "            ax=ax[0])\n",
    "ax[0].set_xlabel('Predicted')\n",
    "ax[0].set_ylabel('True')\n",
    "ax[0].set_title('True Classes Matrix')\n",
    "plt.show()"
   ]
  },
  {
   "cell_type": "code",
   "execution_count": 169,
   "metadata": {},
   "outputs": [
    {
     "data": {
      "text/plain": [
       "{'resampling': SMOTE(random_state=1),\n",
       " 'model': RandomForestClassifier(max_depth=6, min_samples_split=10, random_state=1)}"
      ]
     },
     "execution_count": 169,
     "metadata": {},
     "output_type": "execute_result"
    }
   ],
   "source": [
    "best_model.named_steps"
   ]
  },
  {
   "cell_type": "code",
   "execution_count": 46,
   "metadata": {},
   "outputs": [
    {
     "data": {
      "text/plain": [
       "array([4.47983278e-01, 4.61077084e-02, 4.45339243e-02, 8.28670279e-02,\n",
       "       9.12939100e-02, 5.72472868e-03, 5.49011185e-03, 2.16128035e-02,\n",
       "       2.41421993e-02, 3.33932553e-02, 4.06250243e-02, 5.04534479e-03,\n",
       "       7.48174871e-03, 2.06976285e-02, 1.10656451e-02, 5.64579643e-03,\n",
       "       6.72007721e-03, 4.68804605e-02, 1.26437076e-02, 1.25051993e-07,\n",
       "       1.60759319e-02, 2.39695624e-02])"
      ]
     },
     "execution_count": 46,
     "metadata": {},
     "output_type": "execute_result"
    }
   ],
   "source": [
    "# Retrieve the Random Forest model from the pipeline\n",
    "random_forest_model = best_model.named_steps['model']\n",
    "\n",
    "# Access the feature importances\n",
    "feature_importances = random_forest_model.feature_importances_\n",
    "feature_importances"
   ]
  },
  {
   "cell_type": "code",
   "execution_count": 183,
   "metadata": {},
   "outputs": [],
   "source": [
    "importances = pd.DataFrame(feature_importances, columns=['feature importance'])"
   ]
  },
  {
   "cell_type": "code",
   "execution_count": 184,
   "metadata": {},
   "outputs": [],
   "source": [
    "features = pd.DataFrame(X_trainval.columns, columns=['feature names'])"
   ]
  },
  {
   "cell_type": "code",
   "execution_count": 188,
   "metadata": {},
   "outputs": [
    {
     "data": {
      "text/html": [
       "<div>\n",
       "<style scoped>\n",
       "    .dataframe tbody tr th:only-of-type {\n",
       "        vertical-align: middle;\n",
       "    }\n",
       "\n",
       "    .dataframe tbody tr th {\n",
       "        vertical-align: top;\n",
       "    }\n",
       "\n",
       "    .dataframe thead th {\n",
       "        text-align: right;\n",
       "    }\n",
       "</style>\n",
       "<table border=\"1\" class=\"dataframe\">\n",
       "  <thead>\n",
       "    <tr style=\"text-align: right;\">\n",
       "      <th></th>\n",
       "      <th>feature names</th>\n",
       "      <th>feature importance</th>\n",
       "    </tr>\n",
       "  </thead>\n",
       "  <tbody>\n",
       "    <tr>\n",
       "      <th>0</th>\n",
       "      <td>age</td>\n",
       "      <td>4.479833e-01</td>\n",
       "    </tr>\n",
       "    <tr>\n",
       "      <th>4</th>\n",
       "      <td>ever_married=yes</td>\n",
       "      <td>9.129391e-02</td>\n",
       "    </tr>\n",
       "    <tr>\n",
       "      <th>3</th>\n",
       "      <td>ever_married=no</td>\n",
       "      <td>8.286703e-02</td>\n",
       "    </tr>\n",
       "    <tr>\n",
       "      <th>17</th>\n",
       "      <td>work_type=children</td>\n",
       "      <td>4.688046e-02</td>\n",
       "    </tr>\n",
       "    <tr>\n",
       "      <th>1</th>\n",
       "      <td>avg_glucose_level_log</td>\n",
       "      <td>4.610771e-02</td>\n",
       "    </tr>\n",
       "    <tr>\n",
       "      <th>2</th>\n",
       "      <td>bmi</td>\n",
       "      <td>4.453392e-02</td>\n",
       "    </tr>\n",
       "    <tr>\n",
       "      <th>10</th>\n",
       "      <td>hypertension=yes</td>\n",
       "      <td>4.062502e-02</td>\n",
       "    </tr>\n",
       "    <tr>\n",
       "      <th>9</th>\n",
       "      <td>hypertension=no</td>\n",
       "      <td>3.339326e-02</td>\n",
       "    </tr>\n",
       "    <tr>\n",
       "      <th>8</th>\n",
       "      <td>heart_disease=yes</td>\n",
       "      <td>2.414220e-02</td>\n",
       "    </tr>\n",
       "    <tr>\n",
       "      <th>21</th>\n",
       "      <td>work_type=self_employed</td>\n",
       "      <td>2.396956e-02</td>\n",
       "    </tr>\n",
       "    <tr>\n",
       "      <th>7</th>\n",
       "      <td>heart_disease=no</td>\n",
       "      <td>2.161280e-02</td>\n",
       "    </tr>\n",
       "    <tr>\n",
       "      <th>13</th>\n",
       "      <td>smoking_status=formerly_smoked</td>\n",
       "      <td>2.069763e-02</td>\n",
       "    </tr>\n",
       "    <tr>\n",
       "      <th>20</th>\n",
       "      <td>work_type=private</td>\n",
       "      <td>1.607593e-02</td>\n",
       "    </tr>\n",
       "    <tr>\n",
       "      <th>18</th>\n",
       "      <td>work_type=govt_job</td>\n",
       "      <td>1.264371e-02</td>\n",
       "    </tr>\n",
       "    <tr>\n",
       "      <th>14</th>\n",
       "      <td>smoking_status=never_smoked</td>\n",
       "      <td>1.106565e-02</td>\n",
       "    </tr>\n",
       "    <tr>\n",
       "      <th>12</th>\n",
       "      <td>residence_type=urban</td>\n",
       "      <td>7.481749e-03</td>\n",
       "    </tr>\n",
       "    <tr>\n",
       "      <th>16</th>\n",
       "      <td>smoking_status=unknown</td>\n",
       "      <td>6.720077e-03</td>\n",
       "    </tr>\n",
       "    <tr>\n",
       "      <th>5</th>\n",
       "      <td>gender=female</td>\n",
       "      <td>5.724729e-03</td>\n",
       "    </tr>\n",
       "    <tr>\n",
       "      <th>15</th>\n",
       "      <td>smoking_status=smokes</td>\n",
       "      <td>5.645796e-03</td>\n",
       "    </tr>\n",
       "    <tr>\n",
       "      <th>6</th>\n",
       "      <td>gender=male</td>\n",
       "      <td>5.490112e-03</td>\n",
       "    </tr>\n",
       "    <tr>\n",
       "      <th>11</th>\n",
       "      <td>residence_type=rural</td>\n",
       "      <td>5.045345e-03</td>\n",
       "    </tr>\n",
       "    <tr>\n",
       "      <th>19</th>\n",
       "      <td>work_type=never_worked</td>\n",
       "      <td>1.250520e-07</td>\n",
       "    </tr>\n",
       "  </tbody>\n",
       "</table>\n",
       "</div>"
      ],
      "text/plain": [
       "                     feature names  feature importance\n",
       "0                              age        4.479833e-01\n",
       "4                 ever_married=yes        9.129391e-02\n",
       "3                  ever_married=no        8.286703e-02\n",
       "17              work_type=children        4.688046e-02\n",
       "1            avg_glucose_level_log        4.610771e-02\n",
       "2                              bmi        4.453392e-02\n",
       "10                hypertension=yes        4.062502e-02\n",
       "9                  hypertension=no        3.339326e-02\n",
       "8                heart_disease=yes        2.414220e-02\n",
       "21         work_type=self_employed        2.396956e-02\n",
       "7                 heart_disease=no        2.161280e-02\n",
       "13  smoking_status=formerly_smoked        2.069763e-02\n",
       "20               work_type=private        1.607593e-02\n",
       "18              work_type=govt_job        1.264371e-02\n",
       "14     smoking_status=never_smoked        1.106565e-02\n",
       "12            residence_type=urban        7.481749e-03\n",
       "16          smoking_status=unknown        6.720077e-03\n",
       "5                    gender=female        5.724729e-03\n",
       "15           smoking_status=smokes        5.645796e-03\n",
       "6                      gender=male        5.490112e-03\n",
       "11            residence_type=rural        5.045345e-03\n",
       "19          work_type=never_worked        1.250520e-07"
      ]
     },
     "execution_count": 188,
     "metadata": {},
     "output_type": "execute_result"
    }
   ],
   "source": [
    "feature_importances = pd.concat([features,importances], axis=1)\n",
    "feature_importances.sort_values('feature importance', ascending=False)"
   ]
  },
  {
   "cell_type": "code",
   "execution_count": 48,
   "metadata": {},
   "outputs": [
    {
     "data": {
      "image/png": "[encoded data removed]",
      "text/plain": [
       "<Figure size 576x684 with 1 Axes>"
      ]
     },
     "metadata": {
      "needs_background": "light"
     },
     "output_type": "display_data"
    }
   ],
   "source": [
    "model = best_model\n",
    "explainer = shap.TreeExplainer(model.named_steps['model'])\n",
    "expected_values = explainer.expected_value\n",
    "shap_values = explainer.shap_values(X_holdout)\n",
    "shap.summary_plot(shap_values, X_holdout.columns, plot_type='bar')"
   ]
  }
 ],
 "metadata": {
  "colab": {
   "provenance": [],
   "toc_visible": true
  },
  "kernelspec": {
   "display_name": "Python 3 (ipykernel)",
   "language": "python",
   "name": "python3"
  },
  "language_info": {
   "codemirror_mode": {
    "name": "ipython",
    "version": 3
   },
   "file_extension": ".py",
   "mimetype": "text/x-python",
   "name": "python",
   "nbconvert_exporter": "python",
   "pygments_lexer": "ipython3",
   "version": "3.9.12"
  }
 },
 "nbformat": 4,
 "nbformat_minor": 4
}
